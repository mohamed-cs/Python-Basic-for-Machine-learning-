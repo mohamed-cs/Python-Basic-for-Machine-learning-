{
 "cells": [
  {
   "cell_type": "markdown",
   "metadata": {},
   "source": [
    "## Introduction to Python Programming"
   ]
  },
  {
   "cell_type": "markdown",
   "metadata": {},
   "source": [
    "# Conditional and Looping Statements"
   ]
  },
  {
   "cell_type": "markdown",
   "metadata": {},
   "source": [
    "## if-condition"
   ]
  },
  {
   "cell_type": "code",
   "execution_count": null,
   "metadata": {},
   "outputs": [],
   "source": [
    "x = \"hello\"\n",
    "y = \"hello!\"\n",
    "\n",
    "if x[-1] == y[-1]:\n",
    "    print(\"Same suffix!\")\n",
    "elif x == y:\n",
    "    print(\"Same String!\")\n",
    "elif x == y[:5]:\n",
    "    print(\"X =\", x)\n",
    "else:\n",
    "    print(\"Y =\", y)"
   ]
  },
  {
   "cell_type": "markdown",
   "metadata": {},
   "source": [
    "## while-loop"
   ]
  },
  {
   "cell_type": "code",
   "execution_count": null,
   "metadata": {},
   "outputs": [],
   "source": [
    "i = 0\n",
    "while i <= 4:\n",
    "    if i == 2:\n",
    "        i += 1\n",
    "        continue\n",
    "    print(i)\n",
    "    i += 1"
   ]
  },
  {
   "cell_type": "markdown",
   "metadata": {},
   "source": [
    "## for-loop"
   ]
  },
  {
   "cell_type": "code",
   "execution_count": 3,
   "metadata": {},
   "outputs": [
    {
     "name": "stdout",
     "output_type": "stream",
     "text": [
      "banana\n"
     ]
    }
   ],
   "source": [
    "basket = [\"apple\", \"banana\", \"orange\"]\n",
    "for i in basket:\n",
    "    if i == \"banana\":\n",
    "       print(i)\n",
    "       break\n",
    "    "
   ]
  },
  {
   "cell_type": "markdown",
   "metadata": {},
   "source": [
    "# Functions"
   ]
  },
  {
   "cell_type": "markdown",
   "metadata": {},
   "source": [
    "## Built-in Functions"
   ]
  },
  {
   "cell_type": "code",
   "execution_count": null,
   "metadata": {},
   "outputs": [],
   "source": [
    "print(int(\"A\", base=16)) # int(x, base=10)\n",
    "\n",
    "print(float()) # float([x])\n",
    "\n",
    "print([str(12), 12])\n",
    "\n",
    "print(bool()) # bool([value])"
   ]
  },
  {
   "cell_type": "markdown",
   "metadata": {},
   "source": [
    "## Return Statement"
   ]
  },
  {
   "cell_type": "code",
   "execution_count": null,
   "metadata": {},
   "outputs": [],
   "source": [
    "def myFunction():\n",
    "    return 1, 2, 3\n",
    "\n",
    "print(myFunction())"
   ]
  },
  {
   "cell_type": "markdown",
   "metadata": {},
   "source": [
    "## User-defined Function"
   ]
  },
  {
   "cell_type": "code",
   "execution_count": null,
   "metadata": {},
   "outputs": [],
   "source": [
    "def my_abs(x):\n",
    "    if not isinstance(x, (int, float)):\n",
    "        raise TypeError('bad operand type')\n",
    "    if x >= 0:\n",
    "        return x\n",
    "    else:\n",
    "        return -x\n",
    "        \n",
    "my_abs('123')"
   ]
  },
  {
   "cell_type": "markdown",
   "metadata": {},
   "source": [
    "## Types of Arguments"
   ]
  },
  {
   "cell_type": "markdown",
   "metadata": {},
   "source": [
    "### Keyword argument"
   ]
  },
  {
   "cell_type": "code",
   "execution_count": null,
   "metadata": {},
   "outputs": [],
   "source": [
    "def F(x, y, *, w, l):\n",
    "    print(x, y, w, l)\n",
    "    \n",
    "F(1, 2, l = 4, w = 5)"
   ]
  },
  {
   "cell_type": "markdown",
   "metadata": {},
   "source": [
    "# * and ** as Prefix Operators"
   ]
  },
  {
   "cell_type": "code",
   "execution_count": null,
   "metadata": {},
   "outputs": [],
   "source": [
    "def person(name, age, **kwargs):\n",
    "    print(\"name =\", name, \"age =\", age, \"other =\", kwargs)"
   ]
  },
  {
   "cell_type": "code",
   "execution_count": null,
   "metadata": {},
   "outputs": [],
   "source": [
    "person(\"Mike\", 20)"
   ]
  },
  {
   "cell_type": "code",
   "execution_count": null,
   "metadata": {},
   "outputs": [],
   "source": [
    "person(\"Khalid\", 17, city = \"NY\")"
   ]
  },
  {
   "cell_type": "code",
   "execution_count": null,
   "metadata": {},
   "outputs": [],
   "source": [
    "person(\"Sam\", 27, job = \"Teacher\", city = \"LA\")"
   ]
  },
  {
   "cell_type": "code",
   "execution_count": null,
   "metadata": {},
   "outputs": [],
   "source": [
    "extra_info = {'job': \"Artist\", \"city\": \"Paris\"}\n",
    "person(\"John\", 32, **extra_info)"
   ]
  },
  {
   "cell_type": "code",
   "execution_count": null,
   "metadata": {},
   "outputs": [],
   "source": [
    "def f1(a, b, c=0, *args, **kws):\n",
    "    print(\"a:\", a, \"b:\", b, \"c:\", c, \"args:\", args, \"kws: \", kws)\n",
    "    \n",
    "f1(1, 2, \"22\", \"332\", 4, 1, job='1')"
   ]
  },
  {
   "cell_type": "markdown",
   "metadata": {},
   "source": [
    "## OS-Functions"
   ]
  },
  {
   "cell_type": "code",
   "execution_count": null,
   "metadata": {},
   "outputs": [],
   "source": [
    "import sys\n",
    "\n",
    "sys.platform"
   ]
  },
  {
   "cell_type": "markdown",
   "metadata": {},
   "source": [
    "# Object-Oriented Programming"
   ]
  },
  {
   "cell_type": "code",
   "execution_count": null,
   "metadata": {},
   "outputs": [],
   "source": [
    "◆ you can define class with syyntax \\\n",
    "◆  class classname:\\\n",
    "\n",
    "◆ constructor name : __init()\\\n",
    "◆  Method called every time you create object from class \\\n",
    "◆ Method initialize the data of object \\\n",
    "◆ Every method inside class must have the self keyword  in first parameter \\\n",
    "◆ The self parameter is a reference to the current instance of the\\\n",
    "class, and is used to access variables that belongs to the class.\\\n",
    "        \n",
    "\n"
   ]
  },
  {
   "cell_type": "code",
   "execution_count": 2,
   "metadata": {},
   "outputs": [
    {
     "name": "stdout",
     "output_type": "stream",
     "text": [
      "pepsi\n"
     ]
    }
   ],
   "source": [
    "class dog:\n",
    "    def __init__(self,name,age):\n",
    "        self.name=name\n",
    "        self.age=age\n",
    "    def getname(self):\n",
    "        return self.name\n",
    "dogg=dog(\"pepsi\",4)\n",
    "print(dogg.getname())"
   ]
  },
  {
   "cell_type": "code",
   "execution_count": 5,
   "metadata": {},
   "outputs": [
    {
     "name": "stdout",
     "output_type": "stream",
     "text": [
      "my name is mohamed and my age is22\n",
      "my school name is fcis\n"
     ]
    }
   ],
   "source": [
    "# ◆ Inheritance \\\n",
    "\n",
    "class person: #base class (parent)\n",
    "    def __init__(self,name,age):\n",
    "        self.name=name\n",
    "        self.age=age\n",
    "    def printperson(self):\n",
    "        print(f\"my name is {self.name} and my age is{self.age}\")\n",
    "class student(person):#child class \n",
    "    def __init__(self,name,age,schoolname):\n",
    "        super().__init__(name,age)\n",
    "        self.schoolname=schoolname\n",
    "    def printstudent(self):\n",
    "        self.printperson()\n",
    "        print(f\"my school name is {self.schoolname}\")\n",
    "        \n",
    "\n",
    "student1=student(name=\"mohamed\",age=22,schoolname=\"fcis\")\n",
    "student1.printstudent()"
   ]
  },
  {
   "cell_type": "code",
   "execution_count": null,
   "metadata": {},
   "outputs": [],
   "source": [
    "#Encapsulation \n",
    "\n",
    "class person:\n",
    "    def __init__(self,name,age,rank):\n",
    "        self.name=name   #public \n",
    "        self._age=age  #protected\n",
    "        self.__rank=rank #private \n",
    "                "
   ]
  },
  {
   "cell_type": "markdown",
   "metadata": {},
   "source": [
    "# Notes"
   ]
  },
  {
   "cell_type": "code",
   "execution_count": 6,
   "metadata": {},
   "outputs": [
    {
     "name": "stdout",
     "output_type": "stream",
     "text": [
      "1\n",
      "2\n",
      "2\n",
      "C2\n",
      "1\n",
      "2\n",
      "3\n",
      "4\n",
      "2\n",
      "C3\n",
      "1\n",
      "2\n"
     ]
    }
   ],
   "source": [
    "class JustCounter:\n",
    "    __secretCount = 0\n",
    "    publicCount = 0\n",
    "    def count(self):\n",
    "        self.__secretCount += 1\n",
    "        self.publicCount += 1\n",
    "        print(self.__secretCount)\n",
    "\n",
    "counter = JustCounter()\n",
    "counter.count()\n",
    "counter.count()\n",
    "print(counter.publicCount)\n",
    "# print(counter.__secretCount)\n",
    "print(\"C2\")\n",
    "c2 = JustCounter()\n",
    "c2.count()\n",
    "c2.count()\n",
    "JustCounter.publicCount = 5\n",
    "c2.count()\n",
    "c2.count()\n",
    "print(counter.publicCount)\n",
    "JustCounter.publicCount\n",
    "print(\"C3\")\n",
    "c3 = JustCounter()\n",
    "c3.count()\n",
    "c3.count()"
   ]
  },
  {
   "cell_type": "markdown",
   "metadata": {},
   "source": [
    "## Hands-On Solution"
   ]
  },
  {
   "cell_type": "code",
   "execution_count": null,
   "metadata": {},
   "outputs": [],
   "source": [
    "# Solution 1: using unrestriced keyword argument\n",
    "class rectangle:\n",
    "    def __init__(self, **kws):\n",
    "        self.__width = kws[\"width\"]\n",
    "        self.__length = kws[\"length\"]\n",
    "    \n",
    "    def area(self):\n",
    "        return self.__width*self.__length\n",
    "    \n",
    "my_rect = rectangle(width = 5, length = 2)\n",
    "print(my_rect.area())"
   ]
  },
  {
   "cell_type": "code",
   "execution_count": null,
   "metadata": {},
   "outputs": [],
   "source": [
    "# Solution 2: using restriced keyword argument\n",
    "class rectangle2:\n",
    "    def __init__(self, *, width, length):\n",
    "        self.__width = width\n",
    "        self.__length = length\n",
    "\n",
    "    def area(self):\n",
    "        return self.__width*self.__length\n",
    "    \n",
    "my_rect_2 = rectangle2(length = 4, width = 5)\n",
    "print(my_rect_2.area())"
   ]
  },
  {
   "cell_type": "code",
   "execution_count": null,
   "metadata": {},
   "outputs": [],
   "source": []
  }
 ],
 "metadata": {
  "kernelspec": {
   "display_name": "Python 3",
   "language": "python",
   "name": "python3"
  },
  "language_info": {
   "codemirror_mode": {
    "name": "ipython",
    "version": 3
   },
   "file_extension": ".py",
   "mimetype": "text/x-python",
   "name": "python",
   "nbconvert_exporter": "python",
   "pygments_lexer": "ipython3",
   "version": "3.8.5"
  }
 },
 "nbformat": 4,
 "nbformat_minor": 4
}
