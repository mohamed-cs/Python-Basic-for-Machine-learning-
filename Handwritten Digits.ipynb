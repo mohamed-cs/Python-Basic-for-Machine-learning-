{
 "cells": [
  {
   "cell_type": "code",
   "execution_count": 1,
   "metadata": {},
   "outputs": [],
   "source": [
    "import os\n",
    "import tensorflow as tf\n",
    "from tensorflow import keras\n",
    "from tensorflow.keras import layers, optimizers, datasets\n",
    "from matplotlib import pyplot as plt\n",
    "import numpy as np"
   ]
  },
  {
   "cell_type": "markdown",
   "metadata": {
    "id": "6pCFDDU5ZkV7"
   },
   "source": [
    "# 1. Data Preparation\n",
    "Download the MNIST dataset directly from the official TensorFlow website and decompress it."
   ]
  },
  {
   "cell_type": "code",
   "execution_count": 3,
   "metadata": {
    "colab": {
     "base_uri": "https://localhost:8080/"
    },
    "id": "TQgMg85eV08V",
    "outputId": "78cbe2c7-328b-45d5-a28a-635c68391b97"
   },
   "outputs": [
    {
     "name": "stdout",
     "output_type": "stream",
     "text": [
      "5\n",
      "(60000, 28, 28) (60000,)\n",
      "(10000, 28, 28) (10000,)\n",
      "[0. 0. 0. 0. 0. 1. 0. 0. 0. 0.]\n"
     ]
    }
   ],
   "source": [
    "(x_train_raw, y_train_raw), (x_test_raw, y_test_raw) = datasets.mnist.load_data() \n",
    "\n",
    "# Inspet the Datasets\n",
    "print(y_train_raw[0])\n",
    "print(x_train_raw.shape, y_train_raw.shape)\n",
    "print(x_test_raw.shape, y_test_raw.shape)\n",
    "#plt.imshow(x_train_raw[0])\n",
    "\n",
    "#Convert the labels into one-hot codes.\n",
    "num_classes = 10\n",
    "y_train = keras.utils.to_categorical(y_train_raw, num_classes)\n",
    "y_test = keras.utils.to_categorical(y_test_raw, num_classes)\n",
    "print(y_train[0])"
   ]
  },
  {
   "cell_type": "markdown",
   "metadata": {
    "id": "wy8dYr47ZzLn"
   },
   "source": [
    "In the MNIST dataset, the images are a tensor in the shape of [60000, 28, 28]. The first dimension is used to extract images, and the second and third dimensions are used to extract pixels in each image. Each element in this tensor indicates the strength of a pixel in an image. The value ranges from 0 to 255.\n",
    "Label data is converted from scalar to one-hot vectors. In a one-hot vector, one digit is 1, and digits in other dimensions are all 0s. For example, label 1 may be represented as [0,1,0,0,0,0,0,0,0,0,0,0]. Therefore, the labels are a digital matrix of [60000, 10].\n"
   ]
  },
  {
   "cell_type": "code",
   "execution_count": 4,
   "metadata": {
    "colab": {
     "base_uri": "https://localhost:8080/",
     "height": 248
    },
    "id": "fqXSkVEhV4i0",
    "outputId": "1f9bc25a-20a2-4092-a75e-56407ea26af3"
   },
   "outputs": [
    {
     "data": {
      "image/png": "[encoded data removed]",
      "text/plain": [
       "<Figure size 432x288 with 9 Axes>"
      ]
     },
     "metadata": {
      "needs_background": "light"
     },
     "output_type": "display_data"
    }
   ],
   "source": [
    "#Draw the first 9 images\n",
    "plt.figure()\n",
    "for i in range(9):\n",
    "    plt.subplot(3,3,i+1)\n",
    "    plt.imshow(x_train_raw[i])\n",
    "    #plt.ylabel(y[i].numpy())\n",
    "    plt.axis('off')\n",
    "plt.show()\n"
   ]
  },
  {
   "cell_type": "markdown",
   "metadata": {
    "id": "ulMOTuxMacOA"
   },
   "source": [
    "An output of a **fully connected network** must be in the form of **vector**, instead of the matrix form of the current images. Therefore, you need to sort the images into vectors as follows:"
   ]
  },
  {
   "cell_type": "code",
   "execution_count": 5,
   "metadata": {
    "id": "hHKRliTAV9EZ"
   },
   "outputs": [],
   "source": [
    "#Convert a 28 x 28 image into a 784 x 1 vector.\n",
    "x_train = x_train_raw.reshape(60000, 784)\n",
    "x_test = x_test_raw.reshape(10000, 784)"
   ]
  },
  {
   "cell_type": "markdown",
   "metadata": {},
   "source": [
    "### Q: What if we wanted to work with images instead?\n",
    "Answer: Use of Different Network Architecture"
   ]
  },
  {
   "cell_type": "markdown",
   "metadata": {
    "id": "poA7J9fHaj37"
   },
   "source": [
    "Currently, the dynamic range of pixels is 0 to 255. Image pixels are usually normalized to the range of 0 to 1 during processing of image pixel values."
   ]
  },
  {
   "cell_type": "code",
   "execution_count": 6,
   "metadata": {
    "id": "C3sh5Xv_V_z_"
   },
   "outputs": [],
   "source": [
    "#Normalize image pixel values.\n",
    "x_train = x_train.astype('float32')/255\n",
    "x_test = x_test.astype('float32')/255\n"
   ]
  },
  {
   "cell_type": "markdown",
   "metadata": {},
   "source": [
    "# 2. Model Definition\n",
    "## 2.1 Model Architecture"
   ]
  },
  {
   "cell_type": "code",
   "execution_count": 7,
   "metadata": {
    "colab": {
     "base_uri": "https://localhost:8080/"
    },
    "id": "PFSpweUvWCJc",
    "outputId": "ee8b2a56-e3c8-4aa4-c7f8-d5b3b87bef2a"
   },
   "outputs": [
    {
     "name": "stdout",
     "output_type": "stream",
     "text": [
      "Model: \"sequential\"\n",
      "_________________________________________________________________\n",
      "Layer (type)                 Output Shape              Param #   \n",
      "=================================================================\n",
      "dense (Dense)                (None, 512)               401920    \n",
      "_________________________________________________________________\n",
      "dense_1 (Dense)              (None, 256)               131328    \n",
      "_________________________________________________________________\n",
      "dense_2 (Dense)              (None, 124)               31868     \n",
      "_________________________________________________________________\n",
      "dense_3 (Dense)              (None, 10)                1250      \n",
      "=================================================================\n",
      "Total params: 566,366\n",
      "Trainable params: 566,366\n",
      "Non-trainable params: 0\n",
      "_________________________________________________________________\n"
     ]
    }
   ],
   "source": [
    "#Create a deep neural network (DNN) model that consists of three layers \n",
    "#layer.Dense() indicates a fully connected layer, and activation indicates a used activation function.\n",
    "model = keras.Sequential([ \n",
    "    layers.Dense(512, activation='relu', input_dim = 784),\n",
    "    layers.Dense(256, activation='relu'),\n",
    "    layers.Dense(124, activation='relu'),\n",
    "layers.Dense(num_classes, activation='softmax')])\n",
    "\n",
    "model.summary()"
   ]
  },
  {
   "cell_type": "markdown",
   "metadata": {},
   "source": [
    "## 2.2 Model Compilation (Optimizer & Loss Function)"
   ]
  },
  {
   "cell_type": "code",
   "execution_count": 8,
   "metadata": {
    "id": "hocPo1GXWEdx"
   },
   "outputs": [],
   "source": [
    "Optimizer = optimizers.Adam(0.001)\n",
    "model.compile(loss=keras.losses.categorical_crossentropy,\n",
    "              optimizer=Optimizer,\n",
    "              metrics=['accuracy'])\n"
   ]
  },
  {
   "cell_type": "markdown",
   "metadata": {},
   "source": [
    "# 3. Model Training"
   ]
  },
  {
   "cell_type": "code",
   "execution_count": 9,
   "metadata": {
    "colab": {
     "base_uri": "https://localhost:8080/"
    },
    "id": "zc4MsMoxWGgw",
    "outputId": "e3746360-a755-4293-ad86-68829e4d7655"
   },
   "outputs": [
    {
     "name": "stdout",
     "output_type": "stream",
     "text": [
      "Epoch 1/10\n",
      "469/469 [==============================] - 4s 8ms/step - loss: 0.2308 - accuracy: 0.9314\n",
      "Epoch 2/10\n",
      "469/469 [==============================] - 4s 8ms/step - loss: 0.0820 - accuracy: 0.9747\n",
      "Epoch 3/10\n",
      "469/469 [==============================] - 4s 8ms/step - loss: 0.0530 - accuracy: 0.9829\n",
      "Epoch 4/10\n",
      "469/469 [==============================] - 4s 8ms/step - loss: 0.0396 - accuracy: 0.9870\n",
      "Epoch 5/10\n",
      "469/469 [==============================] - 4s 8ms/step - loss: 0.0300 - accuracy: 0.9905\n",
      "Epoch 6/10\n",
      "469/469 [==============================] - 4s 8ms/step - loss: 0.0270 - accuracy: 0.9909\n",
      "Epoch 7/10\n",
      "469/469 [==============================] - 4s 8ms/step - loss: 0.0228 - accuracy: 0.9924\n",
      "Epoch 8/10\n",
      "469/469 [==============================] - 4s 8ms/step - loss: 0.0214 - accuracy: 0.9927\n",
      "Epoch 9/10\n",
      "469/469 [==============================] - 4s 8ms/step - loss: 0.0159 - accuracy: 0.9945\n",
      "Epoch 10/10\n",
      "469/469 [==============================] - 4s 8ms/step - loss: 0.0147 - accuracy: 0.9948: 0s - loss: 0.0\n"
     ]
    },
    {
     "data": {
      "text/plain": [
       "<tensorflow.python.keras.callbacks.History at 0x1b280c2f808>"
      ]
     },
     "execution_count": 9,
     "metadata": {},
     "output_type": "execute_result"
    }
   ],
   "source": [
    "#Fit the training data to the model by using the fit method.\n",
    "#Epoch indicates a specific round of training. In this example, full data is iterated for 10 times.\n",
    "model.fit(x_train, y_train,\n",
    "          batch_size=128,\n",
    "          epochs=10,\n",
    "          verbose=1)\n"
   ]
  },
  {
   "cell_type": "markdown",
   "metadata": {},
   "source": [
    "# 4. Model Evaluation"
   ]
  },
  {
   "cell_type": "code",
   "execution_count": 10,
   "metadata": {
    "colab": {
     "base_uri": "https://localhost:8080/"
    },
    "id": "12M9q5y0WIhe",
    "outputId": "cbd73df1-55f5-4a5f-8029-a70e1cc256c1"
   },
   "outputs": [
    {
     "name": "stdout",
     "output_type": "stream",
     "text": [
      "Test loss: 0.08391162008047104\n",
      "Test accuracy: 0.9779999852180481\n"
     ]
    }
   ],
   "source": [
    "# Evaluating the DNN model. \n",
    "# The evaluation shows that the model accuracy reaches 0.87, and 10 training iterations have been performed.\n",
    "score = model.evaluate(x_test, y_test, verbose=0)\n",
    "print('Test loss:', score[0])\n",
    "print('Test accuracy:', score[1])\n"
   ]
  },
  {
   "cell_type": "code",
   "execution_count": 11,
   "metadata": {
    "colab": {
     "base_uri": "https://localhost:8080/",
     "height": 402
    },
    "id": "6SAPTwNfXfUI",
    "outputId": "58ae4b00-1181-4bc3-c98a-d2954cc6f5ad"
   },
   "outputs": [
    {
     "name": "stdout",
     "output_type": "stream",
     "text": [
      "WARNING:tensorflow:From <ipython-input-11-777f6abab850>:5: Sequential.predict_classes (from tensorflow.python.keras.engine.sequential) is deprecated and will be removed after 2021-01-01.\n",
      "Instructions for updating:\n",
      "Please use instead:* `np.argmax(model.predict(x), axis=-1)`,   if your model does multi-class classification   (e.g. if it uses a `softmax` last-layer activation).* `(model.predict(x) > 0.5).astype(\"int32\")`,   if your model does binary classification   (e.g. if it uses a `sigmoid` last-layer activation).\n",
      "prediction results of the first 20 images:\n",
      "7,2,1,0,4,\t\n",
      "1,4,9,5,9,\t\n",
      "0,6,9,0,1,\t\n",
      "5,9,7,3,4,\t\n",
      "first 20 images in the test set:\n"
     ]
    },
    {
     "data": {
      "image/png": "[encoded data removed]",
      "text/plain": [
       "<Figure size 432x288 with 20 Axes>"
      ]
     },
     "metadata": {
      "needs_background": "light"
     },
     "output_type": "display_data"
    }
   ],
   "source": [
    "#Visualize test set output results.\n",
    "import matplotlib.pyplot as plt\n",
    "%matplotlib inline\n",
    "def res_Visual(n):\n",
    "    final_opt_a=model.predict_classes(x_test[0:n])#Perform predictions on the test set by using the model.\n",
    "    fig, ax = plt.subplots(nrows=int(n/5),ncols=5 )\n",
    "    ax = ax.flatten()\n",
    "    print('prediction results of the first {} images:'.format(n))\n",
    "    for i in range(n):\n",
    "        print(final_opt_a[i],end=',')\n",
    "        if int((i+1)%5) ==0:\n",
    "            print('\\t')\n",
    "        #Visualize image display.\n",
    "        img = x_test[i].reshape((28,28))#Read each row of data in the format of Ndarry.\n",
    "        plt.axis(\"off\")\n",
    "        ax[i].imshow(img, cmap='Greys', interpolation='nearest')#Visualization\n",
    "        ax[i].axis(\"off\")\n",
    "    print('first {} images in the test set:'.format(n))\n",
    "res_Visual(20)\n"
   ]
  }
 ],
 "metadata": {
  "colab": {
   "collapsed_sections": [],
   "name": "Untitled5.ipynb",
   "provenance": []
  },
  "kernelspec": {
   "display_name": "Python 3",
   "language": "python",
   "name": "python3"
  },
  "language_info": {
   "codemirror_mode": {
    "name": "ipython",
    "version": 3
   },
   "file_extension": ".py",
   "mimetype": "text/x-python",
   "name": "python",
   "nbconvert_exporter": "python",
   "pygments_lexer": "ipython3",
   "version": "3.7.10"
  }
 },
 "nbformat": 4,
 "nbformat_minor": 1
}
