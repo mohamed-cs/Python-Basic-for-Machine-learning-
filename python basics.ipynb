{
 "cells": [
  {
   "cell_type": "markdown",
   "metadata": {},
   "source": [
    
    "#### 1. Lists:\n",
    "◆A list is an ordered set of elements that you can add and delete at \n",
    "any time.\\\n",
    "◆ The element types in the list can be different. You can access each \n",
    "element in the list by index. The first digit of the index starts from 0, \n",
    "and the reverse index starts from -1"
   ]
  },
  {
   "cell_type": "markdown",
   "metadata": {},
   "source": [
    "#### Common Operations on Lists:\n",
    "◆ Access\\\n",
    "◆ Update (append and insert)\\\n",
    "◆ Delete elements (del)\\\n",
    "◆ Operator on list script (+/*)\\\n",
    "◆ List interceptio\\\n",
    "#### Functions of Python Lists:\n",
    "◆ cmp(list1, list2) ===>cmp() will return negative (-1) if obj1<obj2, zero (0) if obj1=obj2, positive (1) if obj1>obj2.\\\n",
    "◆ len(list)  ==> return length of list \\\n",
    "◆ max(list) ==>return the maximum value in list \\\n",
    "◆ min(list) ==>return the minmum value in list \\\n",
    "◆ list(iterator) == create list from iterable \\\n",
    "In the case of dictionaries, the keys of the dictionary will be the items of the list. Also, the order of the elements will be random.\\\n",
    "#### Methods of Python Listing\n",
    "◆ void list.append(obj) ==>adding object to the ebd of list \\\n",
    "◆ int list.count(obj) ==>return the number of element in list \n",
    "◆ void list.extend(iterator) ==> append literator to the end of list after unpacking iterator\\\n",
    "◆ object list.index(obj) ==>return index of first object with this value (object) . if not found it will raise error \\   \n",
    "◆ void list.insert(index, obj) ==> adding an objeect in specific place in list \\\n",
    "◆ void list.pop(index) ==> # remove and return the index item\\\n",
    "◆ void list.pop() ==> # remove and return the last item\\\n",
    "◆ void list.remove(obj) ==> remove the first element  with this value(object)  \\\n",
    "◆ void list.sort(reverse=True|False  ,key=function) ==>\\\n",
    "==>Optional. reverse=True will sort the list descending. Default is reverse=False ascending\\\n",
    "==>Optional. A function to specify the sorting criteria(s)\\\n",
    "◆ void list.reverse() ==>it reverse list"
   ]
  },
  {
   "cell_type": "code",
   "execution_count": 2,
   "metadata": {},
   "outputs": [
    {
     "name": "stdout",
     "output_type": "stream",
     "text": [
      "[1, 2, 3, [4, 5], [4, 5]]\n"
     ]
    }
   ],
   "source": [
    "x = [1, 2, 3]\n",
    "y = [4, 5]\n",
    "x.append(y)\n",
    "x.append(y)\n",
    "print(x)"
   ]
  },
  {
   "cell_type": "code",
   "execution_count": 7,
   "metadata": {},
   "outputs": [
    {
     "name": "stdout",
     "output_type": "stream",
     "text": [
      "[1, 2, 3, 4, 5]\n"
     ]
    }
   ],
   "source": [
    "listt=[1,2,3,4,5]\n",
    "print(listt)"
   ]
  },
  {
   "cell_type": "code",
   "execution_count": 76,
   "metadata": {},
   "outputs": [
    {
     "name": "stdout",
     "output_type": "stream",
     "text": [
      "4\n"
     ]
    }
   ],
   "source": [
    "x = [1, 2,2,2,2,3,4,3]\n",
    "print(x.count(2))"
   ]
  },
  {
   "cell_type": "code",
   "execution_count": 77,
   "metadata": {},
   "outputs": [
    {
     "name": "stdout",
     "output_type": "stream",
     "text": [
      "[1, 2, 3, 4, 5]\n",
      "[1, 2, 3, 4, 5]\n"
     ]
    }
   ],
   "source": [
    "x = [1, 2, 3]\n",
    "y = [4, 5]\n",
    "x.extend(y)\n",
    "print(x)\n",
    "\n",
    "# equal to:\n",
    "\n",
    "x = [1, 2, 3]\n",
    "y = [4, 5]\n",
    "for i in y:\n",
    "    x.append(i)\n",
    "print(x)"
   ]
  },
  {
   "cell_type": "code",
   "execution_count": 78,
   "metadata": {},
   "outputs": [
    {
     "name": "stdout",
     "output_type": "stream",
     "text": [
      "[1, 2, 3, 4, 5, 6]\n"
     ]
    }
   ],
   "source": [
    "# Connect two lists.\n",
    "listone = [1, 2, 3]\n",
    "listtwo = [4, 5, 6]\n",
    "mergedlist = listone + listtwo\n",
    "print(mergedlist)"
   ]
  },
  {
   "cell_type": "code",
   "execution_count": 79,
   "metadata": {},
   "outputs": [
    {
     "name": "stdout",
     "output_type": "stream",
     "text": [
      "1\n"
     ]
    }
   ],
   "source": [
    "x = [1, 2, 2,3]\n",
    "print(x.index(2))"
   ]
  },
  {
   "cell_type": "code",
   "execution_count": 80,
   "metadata": {},
   "outputs": [
    {
     "name": "stdout",
     "output_type": "stream",
     "text": [
      "[1, 'mohamed', 2, 2, 3]\n"
     ]
    }
   ],
   "source": [
    "x = [1, 2, 2,3]\n",
    "x.insert(1,\"mohamed\")\n",
    "print(x)"
   ]
  },
  {
   "cell_type": "code",
   "execution_count": 81,
   "metadata": {},
   "outputs": [],
   "source": [
    "# \"del\" removes a certain element in a specified position.\n",
    "# \"pop\" is similar to \"del\", but \"pop\" can return the removed element."
   ]
  },
  {
   "cell_type": "code",
   "execution_count": 82,
   "metadata": {},
   "outputs": [
    {
     "name": "stdout",
     "output_type": "stream",
     "text": [
      "[2, 2, 3]\n",
      "1\n",
      "******************************\n",
      "[1, 2, 2]\n",
      "3\n"
     ]
    }
   ],
   "source": [
    "x = [1, 2, 2,3]\n",
    "y=x.pop(0)\n",
    "print(x)\n",
    "print(y)\n",
    "print(\"*\"*30)\n",
    "\n",
    "x = [1, 2, 2,3]\n",
    "y=x.pop()\n",
    "print(x)\n",
    "print(y)"
   ]
  },
  {
   "cell_type": "code",
   "execution_count": 83,
   "metadata": {},
   "outputs": [
    {
     "name": "stdout",
     "output_type": "stream",
     "text": [
      "[0, 2, 3]\n"
     ]
    }
   ],
   "source": [
    "#Remove elements from a list.\n",
    "a = [0, 2, 2, 3]\n",
    "a.remove(2)\n",
    "\n",
    "print(a)"
   ]
  },
  {
   "cell_type": "code",
   "execution_count": 84,
   "metadata": {},
   "outputs": [
    {
     "ename": "ValueError",
     "evalue": "list.remove(x): x not in list",
     "output_type": "error",
     "traceback": [
      "\u001b[1;31m---------------------------------------------------------------------------\u001b[0m",
      "\u001b[1;31mValueError\u001b[0m                                Traceback (most recent call last)",
      "\u001b[1;32m<ipython-input-84-c7ddfcb85e41>\u001b[0m in \u001b[0;36m<module>\u001b[1;34m\u001b[0m\n\u001b[0;32m      1\u001b[0m \u001b[1;31m#ValueError will be returned if the removed element is not within the list.\u001b[0m\u001b[1;33m\u001b[0m\u001b[1;33m\u001b[0m\u001b[1;33m\u001b[0m\u001b[0m\n\u001b[1;32m----> 2\u001b[1;33m \u001b[0ma\u001b[0m\u001b[1;33m.\u001b[0m\u001b[0mremove\u001b[0m\u001b[1;33m(\u001b[0m\u001b[1;36m7\u001b[0m\u001b[1;33m)\u001b[0m\u001b[1;33m\u001b[0m\u001b[1;33m\u001b[0m\u001b[0m\n\u001b[0m",
      "\u001b[1;31mValueError\u001b[0m: list.remove(x): x not in list"
     ]
    }
   ],
   "source": [
    "#ValueError will be returned if the removed element is not within the list.\n",
    "a.remove(7)"
   ]
  },
  {
   "cell_type": "code",
   "execution_count": null,
   "metadata": {},
   "outputs": [],
   "source": [
    "x = [1, 2, 2,3,4,6,7,10,31,40]\n",
    "y= [1,2,\"mohamed\",\"ahmed\",\"moham\"]\n",
    "z=['Windows', 'macOS', 'Linux']\n",
    "x.sort(reverse=True)         #True for Descending #False for Ascending \n",
    "# y.sort(reverse=True)  it will raise an error because element not from the same type\n",
    "z.sort(reverse=True)   #sort using asci code of string \n",
    "print(x)\n",
    "print(z)\n",
    "\n",
    "def myFunc(object1):\n",
    "  return len(object1)\n",
    "\n",
    "cars = ['Ford', 'Mitsubishi', 'BMW', 'VW']\n",
    "\n",
    "cars.sort(reverse=True, key=myFunc)\n",
    "print(cars)"
   ]
  },
  {
   "cell_type": "code",
   "execution_count": 3,
   "metadata": {},
   "outputs": [
    {
     "name": "stdout",
     "output_type": "stream",
     "text": [
      "['moham', 'ahmed', 'mohamed', 2, 1]\n"
     ]
    }
   ],
   "source": [
    "y= [1,2,\"mohamed\",\"ahmed\",\"moham\"]\n",
    "y.reverse()\n",
    "print(y)"
   ]
  },
  {
   "cell_type": "markdown",
   "metadata": {},
   "source": [
    "### Example\n",
    "if len(items) == 0:\\\n",
    "print(\"empty list\")\n",
    "###### OR\n",
    "if items == []:\\\n",
    "    print(\"empty list\")"
   ]
  },
  {
   "cell_type": "markdown",
   "metadata": {},
   "source": [
    "### Copy a list.\n",
    "\n",
    "##### Method one:\n",
    "new_list = old_list[:]\n",
    "\n",
    "##### Method two:\n",
    "new_list = list(old_list)\n"
   ]
  },
  {
   "cell_type": "code",
   "execution_count": 85,
   "metadata": {},
   "outputs": [
    {
     "name": "stdout",
     "output_type": "stream",
     "text": [
      "10\n",
      "10\n"
     ]
    }
   ],
   "source": [
    "### Get last element of a list\n",
    "a = [1, 2, 3, 4, 5, 6, 7, 8, 9, 10]\n",
    "# Method one:\n",
    "print(a[len(a)-1])\n",
    "# Method two:\n",
    "print(a[-1])"
   ]
  },
  {
   "cell_type": "markdown",
   "metadata": {},
   "source": [
    "#### 2-Tuple:\n",
    "◆ Tuple is expressed using ().\\\n",
    "◆ Unlike a list, a tuple cannot be modified once initialized, and the \n",
    "elements need to be identified when a tuple is defined.\\\n",
    "◆ A tuple does not have the append () or insert () method, nor can it be \n",
    "assigned to another element. It has the same fetching methods as a \n",
    "list.\\\n",
    "◆ Because a tuple is unchangeable, the code is more secure. Therefore, \n",
    "if possible, use a tuple instead of a list.\\\n",
    "◆ A tuple is simple to create. You only need to add elements to \n",
    "parentheses and separate them with commas."
   ]
  },
  {
   "cell_type": "markdown",
   "metadata": {},
   "source": [
    "#### Common Operations on Tuples\n",
    "◆ Access\\\n",
    "◆ Modify (tuple calculation)\\\n",
    "◆ Delete (del tuple)\\\n",
    "◆ Tuple operators (+,*)\\\n",
    "◆ Tuple index and interception\\\n",
    "◆ No-close separator\\\n",
    "#### Embedded Functions of Tuples\n",
    "◆ cmp(tuple1, tuple2)\\\n",
    "◆ len(tuple)\\\n",
    "◆ max(tuple)\\\n",
    "◆ min(tuple)\\\n",
    "◆ tuple(seq)\\"
   ]
  },
  {
   "cell_type": "markdown",
   "metadata": {},
   "source": [
    "#### Define a tuple for an element.\n",
    ">t=(1,)\\\n",
    "Note: In t=(1), t is not a tuple type, as the parentheses () can \n",
    "represent a tuple, or mathematical formula.Python stipulates that in \n",
    "this case, () is a mathematical formula, and a tuple with only one \n",
    "element must have a comma to eliminate ambiguity."
   ]
  },
  {
   "cell_type": "code",
   "execution_count": 86,
   "metadata": {},
   "outputs": [
    {
     "name": "stdout",
     "output_type": "stream",
     "text": [
      "[(1, 2, '|mohamed'), ('yi', 'er', 'san'), ('one', 'two', 'three'), (1, 2, 3), [1.1, 2.2], 'language']\n",
      "(1, 2, '|mohamed')\n",
      "1\n",
      "m\n"
     ]
    }
   ],
   "source": [
    "tup=(1,2,\"|mohamed\")\n",
    "cn=('yi','er','san')\n",
    "en=('one','two','three')\n",
    "num=(1,2,3)\n",
    "tmp=[tup,cn,en,num,[1.1,2.2],'language']\n",
    "print(tmp)\n",
    "print(tmp[0])\n",
    "print(tmp[0][0])\n",
    "print(tmp[0][2][1])"
   ]
  },
  {
   "cell_type": "markdown",
   "metadata": {},
   "source": [
    "#### 2. Strings:\n",
    "#### Definition of a String\n",
    "◆ In Python, a string is a sequence of 0 or more characters, and a string is \n",
    "one of several sequences built in Python.\\\n",
    "◆ Python strings may be expressed using single quotes, double quotes and \n",
    "triple quotes, as well as escape characters, raw strings, and so on.\\\n",
    "➢ name='JohnSmith'\\\n",
    "➢ name=\"Alic\"\\\n",
    "➢ name=\"\"\"Bob\"\"\""
   ]
  },
  {
   "cell_type": "markdown",
   "metadata": {},
   "source": [
    "➢%c Character and its ASCII code\\\n",
    "➢%s String\\\n",
    "➢%d Signed integer (decimal)\\\n",
    "➢%u Unsigned integer (decimal)\\\n",
    "➢%o Unsigned integer (octal)\\\n",
    "➢%x Unsigned integer (hexadecimal)\\\n",
    "➢%X Unsigned integer (hexadecimal upper-case letters)\\\n",
    "➢%e Floating number (scientific counting method)\\\n",
    "➢%E Floating number (scientific counting method, E replacing e)\\\n",
    "➢%f Floating number (decimal point sign)\\\n",
    "➢%g Floating number (%e or %f, depending on a value)\\\n",
    "➢%G Floating number (similar to %g)\\\n",
    "➢%p Pointer (print memory address of a value using hexadecimal\\"
   ]
  },
  {
   "cell_type": "markdown",
   "metadata": {},
   "source": [
    "➢*: Defines width or precision of the decimal point.\\\n",
    "➢-: Aligns to the left.\\\n",
    "➢+: Displays + before a positive value.\\\n",
    "➢<sp>: Displays space before a positive value.\\\n",
    "➢#: Displays 0 before an octal number or 0x or 0X before a hexadecimal value (depending on whether x or X is used).\\\n",
    "➢0: Adds 0 instead of default space before numbers.\\\n",
    "➢%: %% outputs a single %.\\\n",
    "➢(var): Maps variables (dictionary arguments).\\\n",
    "➢m.n: m means the minimum width and n means the number of digits after the decimal point."
   ]
  },
  {
   "cell_type": "code",
   "execution_count": 87,
   "metadata": {},
   "outputs": [
    {
     "name": "stdout",
     "output_type": "stream",
     "text": [
      "python string\n",
      "python string\n",
      "python \"Hello World\"string\n",
      "--------------\n",
      "this is a long string\n",
      "for phrases or \n",
      "for paragraphs\n",
      "--------------\n",
      "D:\\SVN_CODE\\V900R17C00_TRP\\omu\\src\n"
     ]
    }
   ],
   "source": [
    "#Single quotes and double quotes\n",
    "s = 'python string'\n",
    "print(s)\n",
    "ss=\"python string\"\n",
    "print(ss)\n",
    "sss='python \"Hello World\"string'\n",
    "print(sss)\n",
    "print(\"--------------\")\n",
    "\n",
    "#Long strings\n",
    "print('''this is a long string\n",
    "for phrases or \n",
    "for paragraphs''')\n",
    "print(\"--------------\")\n",
    "\n",
    "#Original strings (raw strings)\n",
    "rawStr = r'D:\\SVN_CODE\\V900R17C00_TRP\\omu\\src'\n",
    "print(rawStr)\n"
   ]
  },
  {
   "cell_type": "code",
   "execution_count": 88,
   "metadata": {},
   "outputs": [
    {
     "ename": "TypeError",
     "evalue": "can only concatenate str (not \"int\") to str",
     "output_type": "error",
     "traceback": [
      "\u001b[1;31m---------------------------------------------------------------------------\u001b[0m",
      "\u001b[1;31mTypeError\u001b[0m                                 Traceback (most recent call last)",
      "\u001b[1;32m<ipython-input-88-a1122d3be90d>\u001b[0m in \u001b[0;36m<module>\u001b[1;34m\u001b[0m\n\u001b[0;32m      1\u001b[0m \u001b[1;31m#we can not conactinate string with number\u001b[0m\u001b[1;33m\u001b[0m\u001b[1;33m\u001b[0m\u001b[1;33m\u001b[0m\u001b[0m\n\u001b[1;32m----> 2\u001b[1;33m \u001b[0mprint\u001b[0m\u001b[1;33m(\u001b[0m\u001b[1;34m\"hello\"\u001b[0m\u001b[1;33m+\u001b[0m\u001b[1;36m1\u001b[0m\u001b[1;33m)\u001b[0m \u001b[1;31m#it will raise an error\u001b[0m\u001b[1;33m\u001b[0m\u001b[1;33m\u001b[0m\u001b[0m\n\u001b[0m",
      "\u001b[1;31mTypeError\u001b[0m: can only concatenate str (not \"int\") to str"
     ]
    }
   ],
   "source": [
    "#we can not conactinate string with number \n",
    "print(\"hello\"+1) #it will raise an error \n"
   ]
  },
  {
   "cell_type": "code",
   "execution_count": 89,
   "metadata": {},
   "outputs": [
    {
     "name": "stdout",
     "output_type": "stream",
     "text": [
      "IwantPython.\n",
      "PythonPythonPython\n"
     ]
    }
   ],
   "source": [
    "#Connect and repeat strings\n",
    "s = 'I' + 'want' + 'Python' + '.'\n",
    "print(s)\n",
    "ss='Python'*3\n",
    "print(ss)"
   ]
  },
  {
   "cell_type": "code",
   "execution_count": 90,
   "metadata": {},
   "outputs": [
    {
     "name": "stdout",
     "output_type": "stream",
     "text": [
      "a b\n",
      "2.500\n",
      " 2.500\n",
      "1.5000\n",
      "        +a\n",
      "$$$$$$$$$$$$$$$$$$$$$$$$$$$$$$$$$$$$$$$$$$$$$$$$$$$$$$$$$$$$\n",
      "my name is mohamed , my age is 30 and my rank= 10 \n",
      "my name is mohamed , my age is 30 and my rank= 10 \n",
      "$$$$$$$$$$$$$$$$$$$$$$$$$$$$$$$$$$$$$$$$$$$$$$$$$$$$$$$$$$$$\n",
      "my name is mohamed,my age is 30 and my rank = 10\n"
     ]
    }
   ],
   "source": [
    "#    *****************************************string formating***************************************** \n",
    "#First way \n",
    "print(\"%c %c\" % (97,98))\n",
    "print(\"%.3f\" % 2.5)\n",
    "print(\"%6.3f\" % 2.5)\n",
    "print(\"%.*f\" % (4, 1.5))\n",
    "print(\"%+10x\" % 10)\n",
    "\n",
    "print(\"$\"*60)\n",
    "\n",
    "#second way\n",
    "name=\"mohamed\"\n",
    "age=30\n",
    "rank=10\n",
    "print(\"my name is {} , my age is {} and my rank= {} \".format(name,age,rank))\n",
    "print(\"my name is {:s} , my age is {:d} and my rank= {:d} \".format(name,age,rank))\n",
    "\n",
    "print(\"$\"*60)\n",
    "\n",
    "#Third way \n",
    "print(f\"my name is {name},my age is {age} and my rank = {rank}\")\n"
   ]
  },
  {
   "cell_type": "code",
   "execution_count": 7,
   "metadata": {},
   "outputs": [
    {
     "name": "stdout",
     "output_type": "stream",
     "text": [
      "PythonPythonPython\n"
     ]
    },
    {
     "ename": "NameError",
     "evalue": "name 'ss' is not defined",
     "output_type": "error",
     "traceback": [
      "\u001b[1;31m---------------------------------------------------------------------------\u001b[0m",
      "\u001b[1;31mNameError\u001b[0m                                 Traceback (most recent call last)",
      "\u001b[1;32m<ipython-input-7-2b6aecc549f6>\u001b[0m in \u001b[0;36m<module>\u001b[1;34m\u001b[0m\n\u001b[0;32m      3\u001b[0m \u001b[0mprint\u001b[0m\u001b[1;33m(\u001b[0m\u001b[0mss\u001b[0m\u001b[1;33m)\u001b[0m\u001b[1;33m\u001b[0m\u001b[1;33m\u001b[0m\u001b[0m\n\u001b[0;32m      4\u001b[0m \u001b[1;32mdel\u001b[0m \u001b[0mss\u001b[0m\u001b[1;33m\u001b[0m\u001b[1;33m\u001b[0m\u001b[0m\n\u001b[1;32m----> 5\u001b[1;33m \u001b[0mprint\u001b[0m\u001b[1;33m(\u001b[0m\u001b[0mss\u001b[0m\u001b[1;33m)\u001b[0m\u001b[1;33m\u001b[0m\u001b[1;33m\u001b[0m\u001b[0m\n\u001b[0m",
      "\u001b[1;31mNameError\u001b[0m: name 'ss' is not defined"
     ]
    }
   ],
   "source": [
    "#Delete strings\n",
    "ss='Python'*3\n",
    "print(ss)\n",
    "del ss\n",
    "print(ss)"
   ]
  },
  {
   "cell_type": "markdown",
   "metadata": {},
   "source": [
    "#### 3-Dictionaries:\n",
    "◆ A dictionary is another variable container model and can store any type of object.\\\n",
    "◆ Each key value of the dictionary is separated with a colon “:\" key value pairs \n",
    "are separated by a comma \",\" and the entire dictionary is included in the curly braces \"{}\". \\\n",
    "◆ The key is generally unique, and the type of the key is unchangeable. If the key repeats, the last key-value pair replaces the previous one. Key values \n",
    "do not need to be unique, and can take any data type.\\\n",
    "◆ A dictionary has the following format:\\\n",
    "➢ d = {key1 : value1, key2 : value2 }\n",
    "\n",
    "#### Python Dictionary Operations\n",
    "◆ Access\\\n",
    "◆ Modify\\\n",
    "◆ Delete\\\n",
    "➢ cmp(dict1,dict2): Compares elements between dictionaries.\\\n",
    "➢ len(dict): Counts elements in a dictionary, or total number of keys.\\\n",
    "➢ str(dict): Outputs printable string expressions of a dictionary.\\\n",
    "➢ type(variable): Returns the types of input variables, and returns dictionary types if the variables are dictionaries."
   ]
  },
  {
   "cell_type": "markdown",
   "metadata": {},
   "source": [
    "➢ object dict_name.has_key(x): Returns the value if the dictionary has a key x.\\\n",
    "➢ iterator dict_name.keys(): Returns a key list of the dictionary.\\\n",
    "➢ iterator dict_name.values(): Returns a value list of the dictionary.\\\n",
    "➢ iterator dict_name.items(): Returns a tuple list. Each tuple includes a key and value pair of the dictionary.\\\n",
    "➢ void dict_name.clear(): Clears all items in the dictionary.\\\n",
    "➢dictionary dict_name.copy(): Returns a copy of the higher-layer structure of the dictionary. It does not copy the embedded \\\n",
    "\n",
    "structure but only reference to the structure.\\\n",
    "➢void  dict_name.update(x): Updates the dictionary with key values in dictionary x.\\\n",
    "➢ object dict_name.get(x[,y]): Returns key x. It returns none if key x is not found and returns y if y is provided and x is not found.\\\n",
    "➢ dict_name.pop('key'): Deletes the value of a given key in the dictionary. It returns the deleted value and key value has \n",
    "to be provided; otherwise, it returns the default value.\\\n",
    "➢ dict_name.popitem(): Randomly returns and deletes a key and value pair in the dictionary"
   ]
  },
  {
   "cell_type": "code",
   "execution_count": 92,
   "metadata": {
    "scrolled": true
   },
   "outputs": [
    {
     "name": "stdout",
     "output_type": "stream",
     "text": [
      "{'one': 1, 'two': 2, 'three': 3}\n",
      "{'one': 1, 'two': 2, 'three': 3}\n",
      "{'one': 1, 'two': 2, 'three': 3}\n",
      "{'one': 1, 'two': 2, 'three': 3}\n",
      "{'one': 1, 'two': 2, 'three': 3}\n",
      "True\n"
     ]
    }
   ],
   "source": [
    "a = {'one': 1, 'two': 2, 'three': 3}\n",
    "print(a)\n",
    "{'three': 3, 'two': 2, 'one': 1}\n",
    "b = dict(one=1, two=2, three=3)\n",
    "print(b)\n",
    "{'three': 3, 'two': 2, 'one': 1}\n",
    "c = dict([('one', 1), ('two', 2), ('three', 3)])\n",
    "print(c)\n",
    "{'three': 3, 'two': 2, 'one': 1}\n",
    "d = dict(zip(['one', 'two', 'three'], [1, 2, 3]))\n",
    "print(d)\n",
    "{'three': 3, 'two': 2, 'one': 1}\n",
    "e = dict({'one': 1, 'two': 2, 'three': 3})\n",
    "print(e)\n",
    "{'one': 1, 'three': 3, 'two': 2}\n",
    "print(a==b==c==d==e)"
   ]
  },
  {
   "cell_type": "code",
   "execution_count": 8,
   "metadata": {},
   "outputs": [
    {
     "name": "stdout",
     "output_type": "stream",
     "text": [
      "1\n",
      "None\n"
     ]
    }
   ],
   "source": [
    "#to get the value of key \n",
    "#dict_name['key'] ==>value   or   dict_name.get('key') ==>value\n",
    "a = {2: 1, \n",
    "     'two': 2,\n",
    "     'three': 3}\n",
    "\n",
    "print(a[\"one])\n",
    "print(a.get(\"one\"))\n"
   ]
  },
  {
   "cell_type": "code",
   "execution_count": 94,
   "metadata": {},
   "outputs": [
    {
     "name": "stdout",
     "output_type": "stream",
     "text": [
      "dict_keys(['one', 'two', 'three'])\n",
      "dict_values([1, 2, 3])\n",
      "dict_items([('one', 1), ('two', 2), ('three', 3)])\n"
     ]
    }
   ],
   "source": [
    "#print all keys of dict\n",
    "a = {'one': 1, \n",
    "     'two': 2,\n",
    "     'three': 3}\n",
    "print(a.keys())\n",
    "\n",
    "#print all values of dict\n",
    "\n",
    "print(a.values())\n",
    "\n",
    "#print keys and values in pairs \n",
    "print(a.items())\n",
    "\n",
    "# \n"
   ]
  },
  {
   "cell_type": "code",
   "execution_count": 95,
   "metadata": {},
   "outputs": [
    {
     "name": "stdout",
     "output_type": "stream",
     "text": [
      "{'one': 1, 'two': 2, 'three': 3, 'name': 'osama', 'age': 20, 'course': 'html'}\n"
     ]
    }
   ],
   "source": [
    "#to insert new element in dictionary \n",
    "a = {'one': 1, \n",
    "     'two': 2,\n",
    "     'three': 3}\n",
    "\n",
    "a.update(name=\"osama\") #first way\n",
    "a.update({\"age\":20})  #second way\n",
    "a['course']=\"html\"  #third way\n",
    "\n",
    "print(a)"
   ]
  },
  {
   "cell_type": "code",
   "execution_count": 96,
   "metadata": {},
   "outputs": [
    {
     "name": "stdout",
     "output_type": "stream",
     "text": [
      "25\n",
      "('tshirts', 217)\n",
      "{'paints': 220, 'shock': 525}\n"
     ]
    }
   ],
   "source": [
    "# Python dictionary pop() Method  \n",
    "# Creating a dictionary  \n",
    "inventory = {'shirts': 25, 'paints': 220, 'shock': 525, 'tshirts': 217}  \n",
    "# Calling method  \n",
    "element = inventory.pop('shirts')  \n",
    "\n",
    "# The popitem() method removes the item that was last inserted into the dictionary.and return key and value in pair\n",
    "ele=inventory.popitem()\n",
    "\n",
    "# Displaying result  \n",
    "print(element)  \n",
    "print(ele)\n",
    "print(inventory)\n",
    "\n"
   ]
  },
  {
   "cell_type": "markdown",
   "metadata": {},
   "source": [
    "#### Conditional and Looping Statements:\n",
    "◆ Python supports three control structures: if, for, and while, but it does not \n",
    "support switch statements in the C language."
   ]
  },
  {
   "cell_type": "markdown",
   "metadata": {},
   "source": [
    "### while Statements\n",
    "◆ The while statement in the Python language is used to execute a loop program that, under certain conditions, loops through a program to handle the same tasks that need to be repeated.\\\n",
    "◆ When the condition of a while statement is never a Boolean false, the loop will never end, forming an infinite loop, also known as a dead loop. You can use the break statement in a loop to force a dead loop to end.\\\n",
    "◆ How to use a while statement:\\\n",
    "**count = 0\\\n",
    "while (count < 9):\\\n",
    "print(\"The count is:\", count) \\\n",
    "count = count + 1 \\\n",
    "print(\"Good bye!\")**"
   ]
  },
  {
   "cell_type": "code",
   "execution_count": 97,
   "metadata": {},
   "outputs": [
    {
     "name": "stdout",
     "output_type": "stream",
     "text": [
      "The count is: 0\n",
      "The count is: 1\n",
      "The count is: 2\n",
      "The count is: 3\n",
      "The count is: 4\n",
      "The count is: 5\n",
      "The count is: 6\n",
      "The count is: 7\n",
      "The count is: 8\n",
      "Good bye!\n"
     ]
    }
   ],
   "source": [
    "count = 0\n",
    "while (count < 9):\n",
    "    print(\"The count is:\", count)\n",
    "    count = count + 1\n",
    "print(\"Good bye!\")"
   ]
  },
  {
   "cell_type": "markdown",
   "metadata": {},
   "source": [
    "### for Statements\n",
    "◆ In the Python language, the for loop can traverse any items of a sequence, \n",
    "such as a list, a dictionary, or a string.\\\n",
    "◆ The for statement is different from a traditional for statement. The former \n",
    "accepts an iterative object (such as a sequence or iterator) as its \n",
    "argument, and one element is iterated each time.\\\n",
    "**for num in nums:\\\n",
    "if num == 1:\\\n",
    "print(num+”---”)\\\n",
    "else if num == 2:\\\n",
    "print(num+”///”)\\\n",
    "else:\\\n",
    "print('break not triggered')**"
   ]
  },
  {
   "cell_type": "code",
   "execution_count": 98,
   "metadata": {},
   "outputs": [
    {
     "name": "stdout",
     "output_type": "stream",
     "text": [
      "1---\n",
      "2///\n",
      "break not triggered\n",
      "break not triggered\n",
      "break not triggered\n"
     ]
    }
   ],
   "source": [
    "nums=[1,2,3,4,5]\n",
    "for num in nums:\n",
    "    if num == 1:\n",
    "        print(str(num)+\"---\")\n",
    "    elif num == 2:\n",
    "        print(str(num)+\"///\")\n",
    "    else:\n",
    "        print('break not triggered')"
   ]
  },
  {
   "cell_type": "code",
   "execution_count": 99,
   "metadata": {},
   "outputs": [
    {
     "name": "stdout",
     "output_type": "stream",
     "text": [
      "0\n",
      "1\n",
      "2\n",
      "3\n",
      "4\n",
      "5\n",
      "6\n",
      "7\n",
      "8\n",
      "9\n"
     ]
    }
   ],
   "source": [
    "for i in range(0,10):\n",
    "    print(i)"
   ]
  },
  {
   "cell_type": "markdown",
   "metadata": {},
   "source": [
    "### Loop Nesting\n",
    "◆ Python allows one loop to be nested in another loop."
   ]
  },
  {
   "cell_type": "code",
   "execution_count": 100,
   "metadata": {},
   "outputs": [],
   "source": [
    "#for loop\n",
    "# for iterating_var in sequence: \n",
    "#     for iterating_var in sequence: \n",
    "#         statement(s) \n",
    "#     statement(s)\n",
    "\n",
    "#-----------------------------------------------------\n",
    "\n",
    "#while loop\n",
    "# while expression: \n",
    "#     while expression: \n",
    "#         statement(s) \n",
    "#     statement(s)"
   ]
  },
  {
   "cell_type": "markdown",
   "metadata": {},
   "source": [
    "### break and continue\n",
    "◆ A break statement ends the entire loop, and if a break statement is \n",
    "triggered, the loop else is not executed.\\\n",
    "◆ A continue statement ends the ongoing iteration of the loop, and\n",
    "begins the next iteration.\\\n",
    "◆ If you use a nested loop, the break statement stops executing the \n",
    "deepest loop and starts executing the next line of code.\\\n",
    "◆ The continue statement tells Python to skip the remaining \n",
    "statements of the current loop to proceed to the next round of \n",
    "loops.\\\n",
    "◆ Both the break and continue statements are available in the while \n",
    "and for loops."
   ]
  },
  {
   "cell_type": "markdown",
   "metadata": {},
   "source": [
    "#### Functions"
   ]
  },
  {
   "cell_type": "markdown",
   "metadata": {},
   "source": [
    "◆ A function is a code segment that is organized, reusable, and used \n",
    "to implement a single function or associated functions.\\\n",
    "◆ Functions can improve the modularity of applications and reuse of \n",
    "code.\\\n",
    "◆ Python provides a number of built-in functions, such as print(). You \n",
    "can also create your own functions, which are called user-defined \n",
    "functions."
   ]
  },
  {
   "cell_type": "markdown",
   "metadata": {},
   "source": [
    "### Common built-in functions\n",
    "**int()\\\n",
    "float()\\\n",
    "bool()\\\n",
    "str()**\n",
    "\n",
    "◆ Function name is a reference to a function object, and it can be\n",
    "assigned to a variable, which is equivalent to giving the function an\n",
    "alias.\n",
    "\n",
    "a = abs **Variable `a` points to function `abs`**\\\n",
    "a(-1)   **Therefore, the `abs` can be called by using `a`**"
   ]
  },
  {
   "cell_type": "markdown",
   "metadata": {},
   "source": [
    "◆ Define a function with the following rules:\n",
    "\n",
    "**➢ The function code block begins with a def keyword, followed by the function \n",
    "name and parentheses ().\\\n",
    "➢ Any incoming arguments and independent variables must be placed in the \n",
    "middle of the parentheses. Parentheses can be used to define arguments.\\\n",
    "➢ The first line of the function can selectively use the document string to hold \n",
    "the description of the function.\\\n",
    "➢ The function content starts with a colon and indents.\\\n",
    "➢ return[expression] ends a function, and selectively returns a value to the \n",
    "caller. Returning without an expression is equivalent to returning none.**\n",
    "\n",
    "◆ Defining a function only gives the function a name, specifies the \n",
    "arguments contained in the function, and the code block structure.\\\n",
    "◆ After the basic structure of this function is complete, you can \n",
    "execute it through another function call, or you can execute it \n",
    "directly from the Python prompt.\n"
   ]
  },
  {
   "cell_type": "code",
   "execution_count": 101,
   "metadata": {},
   "outputs": [
    {
     "name": "stdout",
     "output_type": "stream",
     "text": [
      "5\n"
     ]
    }
   ],
   "source": [
    "#Example:\n",
    "\n",
    "def my_abs(x):\n",
    "    if x>=0:\n",
    "        return x\n",
    "    if x<0:\n",
    "        return -x\n",
    "    \n",
    "i= my_abs(-5)\n",
    "print(i)"
   ]
  },
  {
   "cell_type": "markdown",
   "metadata": {},
   "source": [
    "### Argument Types\n",
    "◆ The following are the formal argument types you can use when calling a \n",
    "Python function:\n",
    "\n",
    "➢ Essential argument: The essential arguments must pass in the function in the \n",
    "correct order, and the number of arguments for calling should be the same as \n",
    "defined.\\\n",
    "➢ Keyword argument: Keyword arguments and functions are called closely, and \n",
    "function calling uses keyword arguments to determine the values of incoming \n",
    "arguments.\\\n",
    "➢ Default argument: When a function is called, if the value of the default argument\n",
    "is not transferred, it is considered that a default value is used.\\\n",
    "➢ Indefinite length argument: You may need a function to handle more arguments \n",
    "than those originally stated. These arguments are called indefinite arguments and \n",
    "are not named when they are stated."
   ]
  },
  {
   "cell_type": "code",
   "execution_count": 10,
   "metadata": {},
   "outputs": [
    {
     "name": "stdout",
     "output_type": "stream",
     "text": [
      "Name:  ahmed  Age:  20  others:  {}\n",
      "None\n",
      "Name:  ahmed  Age:  20  others:  {'City': 'Cairo'}\n",
      "None\n",
      "Name:  ahmed  Age:  20  others:  {'Gender': 'male', 'Job': 'Engineer'}\n",
      "None\n"
     ]
    }
   ],
   "source": [
    "def person(name,age,**kw):\n",
    "    print(\"Name: \",name,\" Age: \",age,\" others: \",kw)\n",
    "\n",
    "print(person('ahmed',20))\n",
    "print(person('ahmed',20,City='Cairo'))\n",
    "print(person('ahmed',20,Gender='male',Job='Engineer'))"
   ]
  },
  {
   "cell_type": "code",
   "execution_count": 11,
   "metadata": {},
   "outputs": [
    {
     "name": "stdout",
     "output_type": "stream",
     "text": [
      "Name:  ahmed  Age:  20  others:  {'Gender': 'Male', 'Job': 'Engineer'}\n",
      "None\n",
      "Name:  ahmed  Age:  20  others:  {'city': 'Alex', 'job': 'Engineer', 'gender': 'Male'}\n",
      "None\n"
     ]
    }
   ],
   "source": [
    "#You can assemble a dictionary and convert it into keyword arguments as inputs.\n",
    "extra={'city':'Alex','job':'Engineer','gender':'Male'}\n",
    "print(person('ahmed',20,Gender=extra['gender'],Job=extra['job']))\n",
    "#You can certainly simplify the above-mentioned complex function calling\n",
    "print(person('ahmed',20,**extra))"
   ]
  },
  {
   "cell_type": "code",
   "execution_count": 104,
   "metadata": {},
   "outputs": [
    {
     "name": "stdout",
     "output_type": "stream",
     "text": [
      "ahmed 20 cairo Engineer\n",
      "None\n"
     ]
    }
   ],
   "source": [
    "#If you want to restrict names of keyword arguments, you can name keyword arguments\n",
    "def person(name,age,*,city,job):\n",
    "    print(name,age,city,job)\n",
    "\n",
    "print(person('ahmed',20,city='cairo',job='Engineer'))"
   ]
  },
  {
   "cell_type": "code",
   "execution_count": 13,
   "metadata": {},
   "outputs": [
    {
     "name": "stdout",
     "output_type": "stream",
     "text": [
      "ahmed 20 Alex Engineer\n"
     ]
    }
   ],
   "source": [
    "#An error will be returned during calling if no argument name is introduced. In this case, the keyword argument can be default.\n",
    "def person(name,age,*,city=\"Alex\",job):\n",
    "    print(name,age,city,job)\n",
    "\n",
    "person('ahmed',20,job='Engineer')"
   ]
  },
  {
   "cell_type": "code",
   "execution_count": 106,
   "metadata": {},
   "outputs": [
    {
     "name": "stdout",
     "output_type": "stream",
     "text": [
      "a=  1  b=  2  c=  0  arg=  ()  KW=  {}\n",
      "a=  1  b=  2  c=  3  arg=  ()  KW=  {}\n",
      "a=  1  b=  2  c=  3  arg=  ('a', 'b')  KW=  {}\n",
      "a=  1  b=  2  c=  3  arg=  ('a', 'b')  KW=  {'x': '99'}\n",
      "------------------------\n",
      "a=  1  b=  2  c=  3  d=  99  KW=  {'ext': None}\n",
      "------------------------\n",
      "a=  1  b=  2  c=  3  arg=  (4,)  KW=  {'A': 22, 'B': 44}\n",
      "------------------------\n",
      "a=  1  b=  2  c=  3  arg=  ()  KW=  {'A': 22, 'B': 44}\n",
      "------------------------\n",
      "a=  1  b=  2  c=  3  d=  22  KW=  {'B': 44}\n"
     ]
    }
   ],
   "source": [
    "\"\"\"\n",
    "◆ Argument combination: Arguments must be defined in the order of required\n",
    "  arguments, default arguments, changeable arguments, named keyword\n",
    "  arguments, and keyword arguments\n",
    "\"\"\"\n",
    "def f1(a,b,c=0,*args,**kw):\n",
    "    print('a= ',a,' b= ',b,' c= ',c,' arg= ',args,' KW= ',kw)\n",
    "\n",
    "f1(1,2)\n",
    "f1(1,2,c=3)\n",
    "f1(1,2,3,'a','b')\n",
    "f1(1,2,3,'a','b',x='99')\n",
    "print(\"------------------------\")\n",
    "\n",
    "def f2(a,b,c=0,*,d,**kw):\n",
    "    print('a= ',a,' b= ',b,' c= ',c,' d= ',d,' KW= ',kw)\n",
    "    \n",
    "f2(1,2,c=3,d=99,ext=None)\n",
    "print(\"------------------------\")\n",
    "\n",
    "arg=(1,2,3,4)\n",
    "kw={'A':22,'B':44}\n",
    "\n",
    "f1(*arg,**kw)\n",
    "print(\"------------------------\")\n",
    "\n",
    "arg=(1,2,3)\n",
    "kw={'A':22,'B':44}\n",
    "\n",
    "f1(*arg,**kw)\n",
    "print(\"------------------------\")\n",
    "\n",
    "arg=(1,2,3)\n",
    "kw={'d':22,'B':44}\n",
    "\n",
    "f2(*arg,**kw)"
   ]
  },
  {
   "cell_type": "markdown",
   "metadata": {},
   "source": [
    "◆ Python uses lambda to create anonymous functions:\n",
    "\n",
    "➢ lambda is only an expression, and its function body is much simpler \n",
    "than def.\\\n",
    "➢ The body of lambda is an expression, not a block of code. Only limited \n",
    "logic can be encapsulated in lambda expressions.\\\n",
    "➢ A lambda function has its own namespace and cannot access \n",
    "arguments outside of its own argument list or in the global namespace. \\\n",
    "➢ Although a lambda function may seem to write only one line, it is not \n",
    "the same as the C or C ++ inline function, which is designed to call \n",
    "small functions without consuming stack memory and therefore\n",
    "increases operational efficiency."
   ]
  },
  {
   "cell_type": "code",
   "execution_count": 107,
   "metadata": {},
   "outputs": [
    {
     "data": {
      "text/plain": [
       "10"
      ]
     },
     "execution_count": 107,
     "metadata": {},
     "output_type": "execute_result"
    }
   ],
   "source": [
    "#Example \n",
    "double = lambda x: x * 2\n",
    "\n",
    "double(5)"
   ]
  },
  {
   "cell_type": "markdown",
   "metadata": {},
   "source": [
    "#### Global Variables and Local Variables\n",
    "◆ A variable defined within a function has a local scope and is called \n",
    "a local variable, and a variable defined beyond a function has a \n",
    "global scope and is called a global variable.\\\n",
    "◆ Local variables can only be accessed within the stated function, \n",
    "and global variables are accessible within the entire program.\\\n",
    "◆ When a function is called, all variable names stated within the \n",
    "function are added to the scope."
   ]
  },
  {
   "cell_type": "markdown",
   "metadata": {},
   "source": [
    "# OS-Related Calling and Functions - sys\n",
    "◆ System-related Information module sys.\\\n",
    "◆ SYS.ARGV passes arguments from outside the program to the program.\\\n",
    "◆ Sys.stdout, Sys.stdin, and Sys.stderr represent the standard input and output, the file object of \n",
    "error output, respectively.\\\n",
    "◆ Sys.stdin.readline () reads a line from the standard input and sys.stdout.write (\"a\") outputs a on \n",
    "the screen.\\\n",
    "◆ Sys.exit () exits the program.\\\n",
    "◆ Sys.modules is a dictionary that holds all imported modules.\\\n",
    "◆ Sys.platform Gets the running OS environment. \\\n",
    "◆ Sys.path is a list that indicates the path to identify modules.\\\n",
    "◆ os.environ contains the mapping between environment variables; os.environ[\"Home\"] can get the value \n",
    "of the environment variable Home.\\\n",
    "◆ os.chdir (dir) changes the current working directory; os.chdir(‘d:\\\\outlook’).\\\n",
    "◆ os.getcwd() gets the current directory.\\\n",
    "◆ os.getegid () gets a valid group ID; Id;os.getgid () gets a valid group ID.\\\n",
    "◆ os.getuid () gets a user ID; os.geteuid() gets a valid user ID.\\\n",
    "◆ os.setegid () os.setegid () Os.seteuid () Os.setuid ().\\\n",
    "◆ os.getgruops () gets a list of user group names.\\\n",
    "◆ os.getlogin () gets the user login name.\\\n",
    "◆ os.getenv () gets the environment variable.\\\n",
    "◆ os.putenv () sets the environment variable. \\\n",
    "◆ os.umask () sets the current permission mask and returns the previous permission mask. It is valid in \n",
    "Unix and windows. \\\n",
    "◆ os.system (cmd) uses system calls to run the cmd command."
   ]
  },
  {
   "cell_type": "markdown",
   "metadata": {},
   "source": [
    "# Hands On\n",
    "#### Task1:\n",
    "Create a list 1,2,3,”Ahmed”\\\n",
    "Modify the third element to 50.2\\\n",
    "Convert the list to tuple\\\n",
    "#### Task2:\n",
    "Create a dictionary \\\n",
    "Modify the first value in the dictionary to “First”\\\n",
    "Print the dictionary"
   ]
  },
  {
   "cell_type": "code",
   "execution_count": 108,
   "metadata": {},
   "outputs": [
    {
     "name": "stdout",
     "output_type": "stream",
     "text": [
      "(1, 2, 50.2, 3, 'Ahmed')\n"
     ]
    }
   ],
   "source": [
    "# Hands On\n",
    "#### Task1:\n",
    "mylist=[1,2,3,\"Ahmed\"]\n",
    "mylist.insert(2,50.2)\n",
    "mytup=tuple(mylist)\n",
    "print(mytup)"
   ]
  },
  {
   "cell_type": "code",
   "execution_count": 16,
   "metadata": {},
   "outputs": [
    {
     "name": "stdout",
     "output_type": "stream",
     "text": [
      "{'one': 'first', 'two': 2}\n"
     ]
    }
   ],
   "source": [
    "# Hands On\n",
    "#### Task2:\n",
    "mydict={\n",
    "    \"one\":1,\n",
    "    \"two\":2\n",
    "}\n",
    "\n",
    "mydict.update(one=\"first\")\n",
    "mydict[\"one\"]=\"first\"\n",
    "print(mydict)"
   ]
  }
 ],
 "metadata": {
  "kernelspec": {
   "display_name": "Python 3",
   "language": "python",
   "name": "python3"
  },
  "language_info": {
   "codemirror_mode": {
    "name": "ipython",
    "version": 3
   },
   "file_extension": ".py",
   "mimetype": "text/x-python",
   "name": "python",
   "nbconvert_exporter": "python",
   "pygments_lexer": "ipython3",
   "version": "3.8.5"
  }
 },
 "nbformat": 4,
 "nbformat_minor": 4
}
