{
 "cells": [
  {
   "cell_type": "markdown",
   "metadata": {},
   "source": [
    "# Artificial Intelligence - Lab 3\n",
    "## Introduction to Python Programming"
   ]
  },
  {
   "cell_type": "markdown",
   "metadata": {},
   "source": [
    "## Data and Time\n",
    "\n",
    "* **date class** -  to work with date\n",
    "* **time class** -  to work with time\n",
    "* **datetime class** -  combination of date and time classes"
   ]
  },
  {
   "cell_type": "code",
   "execution_count": 4,
   "metadata": {},
   "outputs": [
    {
     "name": "stdout",
     "output_type": "stream",
     "text": [
      "2021-05-27 18:46:46.180931\n",
      "<class 'datetime.datetime'>\n"
     ]
    }
   ],
   "source": [
    "import datetime \n",
    "now = datetime.datetime.now() # Get the current local datetime \n",
    "print(now) \n",
    "print(type(now)) "
   ]
  },
  {
   "cell_type": "code",
   "execution_count": 7,
   "metadata": {},
   "outputs": [
    {
     "name": "stdout",
     "output_type": "stream",
     "text": [
      "2021\n",
      "5\n",
      "27\n"
     ]
    }
   ],
   "source": [
    "#print the current year ,month,day\n",
    "\n",
    "print(datetime.datetime.now().year) #year\n",
    "print(datetime.datetime.now().month) #month\n",
    "print(datetime.datetime.now().day) #day"
   ]
  },
  {
   "cell_type": "code",
   "execution_count": 9,
   "metadata": {},
   "outputs": [
    {
     "name": "stdout",
     "output_type": "stream",
     "text": [
      "18\n",
      "50\n",
      "55\n"
     ]
    }
   ],
   "source": [
    "#print the current year ,month,day\n",
    "\n",
    "print(datetime.datetime.now().time().hour) #hours\n",
    "print(datetime.datetime.now().time().minute) #minutes\n",
    "print(datetime.datetime.now().time().second) #seconds"
   ]
  },
  {
   "cell_type": "code",
   "execution_count": 2,
   "metadata": {},
   "outputs": [
    {
     "name": "stdout",
     "output_type": "stream",
     "text": [
      "Date: 2021-05-27\n",
      "Time: 18:44:42.130983\n"
     ]
    }
   ],
   "source": [
    "print(\"Date:\", now.date()); #print the current date\n",
    "\n",
    "print(\"Time:\", now.time())  #print the current time "
   ]
  },
  {
   "cell_type": "code",
   "execution_count": 13,
   "metadata": {},
   "outputs": [
    {
     "name": "stdout",
     "output_type": "stream",
     "text": [
      "1999-02-14 05:30:40\n",
      "1999-02-14\n"
     ]
    }
   ],
   "source": [
    "#to print specific date \n",
    "#print(datetime.datetime(year,month,day,hour,minute,seconds))\n",
    "\n",
    "print(datetime.datetime(1999,2,14,5,30,40))\n",
    "print(datetime.datetime(1999,2,14).date())"
   ]
  },
  {
   "cell_type": "markdown",
   "metadata": {},
   "source": [
    "### Format Date: strftime() method\n",
    "returns a string representing date and time for a datetime object. Allows us to show datetime object in a custom specific format.\n",
    "\n",
    "Different formats depending on your location:\n",
    "* **US** mm/dd/yyyy\n",
    "* **UK** dd/mm/yyyy"
   ]
  },
  {
   "cell_type": "code",
   "execution_count": 14,
   "metadata": {},
   "outputs": [
    {
     "name": "stdout",
     "output_type": "stream",
     "text": [
      "2021-05-27 18:59:32.510299\n",
      "Thursday, May 27, 2021\n",
      "21 $ 05 $ 27  18 :: 59 :: 32\n"
     ]
    }
   ],
   "source": [
    "import datetime\n",
    "import time\n",
    "\n",
    "current_dt = datetime.datetime.now()\n",
    "print(current_dt)\n",
    "\n",
    "string_date = current_dt.strftime(\"%A, %B %d, %Y\")\n",
    "print(string_date)\n",
    "\n",
    "print(datetime.datetime.now().strftime(\"%y $ %m $ %d  %H :: %M :: %S\"))\n",
    "\n",
    "# %y  -for year\n",
    "# %m -for month\n",
    "# %d - for day\n",
    "# %H -for hours\n",
    "# %M -for minutes\n",
    "# %S - for seconds\n",
    "# %A - full weekday name\n",
    "# %B - full month name\n",
    "# %d - day of month in the datetime object\n",
    "# %Y - full year, %y - last 2 numbers"
   ]
  },
  {
   "cell_type": "markdown",
   "metadata": {},
   "source": [
    "### Format Time\n",
    "* The `time()` function returns the number of seconds passed since epoch.\n",
    "* The `localtime()` function takes the number of seconds passed since epoch as an argument and returns `struct_time` in local time.\n",
    "* The `asctime()` function takes `struct_time` as an argument and returns a string representing it."
   ]
  },
  {
   "cell_type": "code",
   "execution_count": 1,
   "metadata": {},
   "outputs": [
    {
     "name": "stdout",
     "output_type": "stream",
     "text": [
      "1622872478.6627753\n",
      "<class 'time.struct_time'> time.struct_time(tm_year=2021, tm_mon=6, tm_mday=5, tm_hour=7, tm_min=54, tm_sec=38, tm_wday=5, tm_yday=156, tm_isdst=0)\n",
      "2021-06-05 07:54:38\n",
      "Sat Jun 05 07:54:38 2021\n"
     ]
    }
   ],
   "source": [
    "import time\n",
    "\n",
    "print(time.time()) \n",
    "\n",
    "t = time.localtime()\n",
    "print(type(t), t)\n",
    "\n",
    "# Format into 2016-03-29 11:45:39\n",
    "print(time.strftime(\"%Y-%m-%d %H:%M:%S\", t))\n",
    "\n",
    "# Format into Sat Mar 28 22:24:24 2016\n",
    "print(time.strftime(\"%a %b %d %H:%M:%S %Y\", t))\n",
    "\n",
    "# %y  -for year\n",
    "# %m -for month\n",
    "# %d - for day\n",
    "# %H -for hours\n",
    "# %M -for minutes\n",
    "# %S - for seconds\n",
    "# %A - full weekday name\n",
    "# %B - full month name\n",
    "# %d - day of month in the datetime object\n",
    "# %Y - full year, %y - last 2 numbers"
   ]
  },
  {
   "cell_type": "code",
   "execution_count": 2,
   "metadata": {},
   "outputs": [
    {
     "name": "stdout",
     "output_type": "stream",
     "text": [
      "time.struct_time(tm_year=2021, tm_mon=6, tm_mday=5, tm_hour=8, tm_min=14, tm_sec=43, tm_wday=5, tm_yday=156, tm_isdst=0)\n",
      "Local time: Sat Jun  5 08:14:43 2021\n"
     ]
    }
   ],
   "source": [
    "import time\n",
    "print(time.localtime())\n",
    "localtime = time.asctime(time.localtime())\n",
    "print(\"Local time:\", localtime)"
   ]
  },
  {
   "cell_type": "markdown",
   "metadata": {},
   "source": [
    "### Converting datetime to timestamp\n",
    "`January 1, 1970, 00:00:00` at UTC is epoch (the point where time begins)."
   ]
  },
  {
   "cell_type": "code",
   "execution_count": 18,
   "metadata": {},
   "outputs": [
    {
     "name": "stdout",
     "output_type": "stream",
     "text": [
      "DateTime = 1970-01-01 00:00:00\n"
     ]
    }
   ],
   "source": [
    "from datetime import datetime\n",
    "\n",
    "timestamp_date = datetime.utcfromtimestamp(0)\n",
    "print(\"DateTime =\", timestamp_date)"
   ]
  },
  {
   "cell_type": "code",
   "execution_count": 19,
   "metadata": {},
   "outputs": [
    {
     "name": "stdout",
     "output_type": "stream",
     "text": [
      "2015-04-19 12:20:00\n"
     ]
    },
    {
     "data": {
      "text/plain": [
       "1429438800.0"
      ]
     },
     "execution_count": 19,
     "metadata": {},
     "output_type": "execute_result"
    }
   ],
   "source": [
    "from datetime import datetime \n",
    "dt = datetime(2015, 4, 19, 12, 20)  #Create using specified datetime\n",
    "print(dt)\n",
    "dt.timestamp()     #Convert datetime into timestamp "
   ]
  },
  {
   "cell_type": "markdown",
   "metadata": {},
   "source": [
    "### Converting timestamp to datetime"
   ]
  },
  {
   "cell_type": "code",
   "execution_count": 20,
   "metadata": {},
   "outputs": [
    {
     "name": "stdout",
     "output_type": "stream",
     "text": [
      "2015-04-19 06:20:00\n",
      "2015-04-19 04:20:00\n"
     ]
    }
   ],
   "source": [
    "# Timestamp and the concept of time zone\n",
    "from datetime import datetime \n",
    "t = 1429417200.0 \n",
    "print(datetime.fromtimestamp(t)) # local time \n",
    "print(datetime.utcfromtimestamp(t)) # UTC time"
   ]
  },
  {
   "cell_type": "code",
   "execution_count": 21,
   "metadata": {},
   "outputs": [
    {
     "name": "stdout",
     "output_type": "stream",
     "text": [
      "1622135174.2409303\n",
      "2021-05-27 19:06:14.240930\n"
     ]
    }
   ],
   "source": [
    "import time\n",
    "t = time.time()   #time in seconds \n",
    "print(t); \n",
    "\n",
    "print(datetime.fromtimestamp(t)) #converting timestamp to datetime"
   ]
  },
  {
   "cell_type": "markdown",
   "metadata": {},
   "source": [
    "### Get Calendar of a Month\n",
    "The calendar module can process yearly calendars and monthly calendars using multiple methods, for example, printing a monthly calendar."
   ]
  },
  {
   "cell_type": "code",
   "execution_count": 23,
   "metadata": {},
   "outputs": [
    {
     "name": "stdout",
     "output_type": "stream",
     "text": [
      "Output Calendar of January 2016:\n",
      "   February 2025\n",
      "Mo Tu We Th Fr Sa Su\n",
      "                1  2\n",
      " 3  4  5  6  7  8  9\n",
      "10 11 12 13 14 15 16\n",
      "17 18 19 20 21 22 23\n",
      "24 25 26 27 28\n",
      "\n"
     ]
    }
   ],
   "source": [
    "import calendar \n",
    "cal = calendar.month(2025, 2)\n",
    "print(\"Output Calendar of January 2016:\")\n",
    "print(cal)"
   ]
  },
  {
   "cell_type": "markdown",
   "metadata": {},
   "source": [
    "## RegEx\n",
    "A **Reg**ular **Ex**pression (RegEx) is a sequence of characters that defines a search pattern. "
   ]
  },
  {
   "cell_type": "code",
   "execution_count": null,
   "metadata": {},
   "outputs": [],
   "source": [
    "# \\d ==>refer to one digit \n",
    "# \\D ==>refer to none digit\n",
    "# \\s ==>refer to one whitespace \n",
    "# \\S ==>refer to one none whitespace \n",
    "# \\w ==>refer to letter or number or underscore\n",
    "\n",
    "# * ==>refer to one or more \n",
    "# + ==>refer to one or more \n",
    "# . ==>match any character within newline\n",
    "# ? ==> refer to zero or one \n",
    "# {n} ==> n from type \n",
    "# {start ,end } ==>from 2 to 4 character \n",
    "# {2,} ==>from 2 to more \n",
    "# {,3} ==> up to 3 character \n",
    " \n",
    "# [a-z] ==> character from a to z\n",
    "# [A-Z] ==> character from A TO Z\n",
    "#[a-Z] ==>character from a,A to Z,z\n",
    "# [0-9] ==>any number \n",
    "# [0-9A-Z] ==>anynumber between characters\n",
    "# ^ ==>start of string \n",
    "# $ ==> end of string \n",
    "# | ==> or \n",
    "#( ) ==>sperate group\n",
    "\n",
    "# Ex:\n",
    "#     Ah 123  mohAMED\n",
    "#    [A-z]{2}\\s[0-9]{3}\\s[A-z]*\n"
   ]
  },
  {
   "cell_type": "code",
   "execution_count": null,
   "metadata": {},
   "outputs": [],
   "source": [
    "#012 64632 6455663   \n",
    "#012-64632-6455663 \n",
    "\n",
    "# form \n",
    "#  ^\\d{3}\\s?-?\\d{5}\\s?-?\\d{7}$"
   ]
  },
  {
   "cell_type": "code",
   "execution_count": 26,
   "metadata": {},
   "outputs": [
    {
     "name": "stdout",
     "output_type": "stream",
     "text": [
      "<re.Match object; span=(0, 5), match='hello'>\n",
      "hello\n"
     ]
    }
   ],
   "source": [
    "import re\n",
    "\n",
    "\n",
    "# Compile a regular expression into a pattern object\n",
    "pattern = re.compile(r'hello')\n",
    "\n",
    "# Match text with pattern and return none if no match\n",
    "match = pattern.match('hello world!')\n",
    "print(match)\n",
    "\n",
    "if match:\n",
    "    # Get group information using match\n",
    "    print(match.group())\n",
    "    \n",
    "    \n",
    "  "
   ]
  },
  {
   "cell_type": "markdown",
   "metadata": {},
   "source": [
    "### re.match()\n",
    "tries to match a mode from the string start position. If no mode is matched from the string start, match() returns none."
   ]
  },
  {
   "cell_type": "code",
   "execution_count": 25,
   "metadata": {},
   "outputs": [
    {
     "name": "stdout",
     "output_type": "stream",
     "text": [
      "(0, 3)\n"
     ]
    }
   ],
   "source": [
    "# re.match(pattern, string, flags=0)\n",
    "import re\n",
    "print(re.match('www', 'www.ruboob.com').span())  # Match at start"
   ]
  },
  {
   "cell_type": "code",
   "execution_count": null,
   "metadata": {},
   "outputs": [],
   "source": [
    "print(re.match('com', 'www.ruboob.com'))         # Match not at start"
   ]
  },
  {
   "cell_type": "markdown",
   "metadata": {},
   "source": [
    "### re.search()\n",
    "scans the entire string and returns the first successful match."
   ]
  },
  {
   "cell_type": "code",
   "execution_count": 30,
   "metadata": {},
   "outputs": [
    {
     "name": "stdout",
     "output_type": "stream",
     "text": [
      "<re.Match object; span=(5, 31), match='Cats ARE smarter than dogs'>\n",
      "(5, 31)\n",
      "search_obj.group() :  Cats ARE smarter than dogs\n",
      "search_obj.group(1) :  Cats\n",
      "search_obj.group(2) :  smarter than dogs\n"
     ]
    }
   ],
   "source": [
    "# re.search(pattern, string, flags=0)\n",
    "import re\n",
    "line = \"\"\"\n",
    "abc\n",
    "Cats ARE smarter than dogs\"\"\"\n",
    "\n",
    "#re.search(pattern,format)\n",
    "search_obj = re.search( r'(.*) are (.*)', line, re.I|re.M) # re.I (ignore case), re.M (multi-line)\n",
    "\n",
    "if search_obj:\n",
    "    print(search_obj )\n",
    "    print(search_obj.span())  # to get interval that formal happend in \n",
    "    print(\"search_obj.group() : \", search_obj.group())\n",
    "    print(\"search_obj.group(1) : \", search_obj.group(1))\n",
    "    print(\"search_obj.group(2) : \", search_obj.group(2))\n",
    "    \n",
    "else:\n",
    "    print(\"Nothing found!!\")"
   ]
  },
  {
   "cell_type": "markdown",
   "metadata": {},
   "source": [
    "`re.match()` only matches the string start. If the string start does not agree with the regular expression, the matching fails and the function returns none. `re.search()` matches the entire string until finding a match."
   ]
  },
  {
   "cell_type": "markdown",
   "metadata": {},
   "source": [
    "### Index and replace: re.sub()"
   ]
  },
  {
   "cell_type": "code",
   "execution_count": 3,
   "metadata": {},
   "outputs": [
    {
     "name": "stdout",
     "output_type": "stream",
     "text": [
      "The telephone number is 2004-959-559 \n",
      "The telephone number is  2004 959 559                                      \n"
     ]
    }
   ],
   "source": [
    "# re.sub(pattern, repl, string, count=0, flags=0)\n",
    "import re\n",
    "phone = \"2004-959-559 # This is an oversea telephone number\"\n",
    "\n",
    "# Delete Python comments in strings\n",
    "num = re.sub(r'#.*$', \"\", phone)\n",
    "print(\"The telephone number is\", num)\n",
    "\n",
    "# Delete non-number (-) strings\n",
    "# num = re.sub(r'-', \"\", num)\n",
    "num = re.sub(r'\\D', \" \", phone)\n",
    "print(\"The telephone number is \", num)"
   ]
  },
  {
   "cell_type": "markdown",
   "metadata": {},
   "source": [
    "### re.compile()\n",
    "The compile function compiles regular expressions and creates a regular expression (pattern) object, which will be used by the `match()` and `search()` functions."
   ]
  },
  {
   "cell_type": "code",
   "execution_count": 33,
   "metadata": {},
   "outputs": [
    {
     "name": "stdout",
     "output_type": "stream",
     "text": [
      "None\n",
      "None\n",
      "<re.Match object; span=(3, 5), match='12'>\n"
     ]
    }
   ],
   "source": [
    "# re.compile(pattern[, flags])\n",
    "\n",
    "import re\n",
    "pattern = re.compile(r'\\d+')                    # Match at least one number\n",
    "m = pattern.match('one12twothree34four')        # Search head, no match\n",
    "print(m)\n",
    "\n",
    "m = pattern.match('one12twothree34four', 2, 10) # Match from ‘e’, no match\n",
    "print(m)\n",
    "\n",
    "m = pattern.match('one12twothree34four', 3, 10) # Match from ‘1’, matched\n",
    "print(m)                                         # Return a match object"
   ]
  },
  {
   "cell_type": "code",
   "execution_count": 34,
   "metadata": {},
   "outputs": [
    {
     "data": {
      "text/plain": [
       "'12'"
      ]
     },
     "execution_count": 34,
     "metadata": {},
     "output_type": "execute_result"
    }
   ],
   "source": [
    "m.group() #to get matched value"
   ]
  },
  {
   "cell_type": "code",
   "execution_count": null,
   "metadata": {},
   "outputs": [],
   "source": [
    "m.start()"
   ]
  },
  {
   "cell_type": "code",
   "execution_count": null,
   "metadata": {},
   "outputs": [],
   "source": [
    "m.end() "
   ]
  },
  {
   "cell_type": "code",
   "execution_count": 35,
   "metadata": {},
   "outputs": [
    {
     "data": {
      "text/plain": [
       "(3, 5)"
      ]
     },
     "execution_count": 35,
     "metadata": {},
     "output_type": "execute_result"
    }
   ],
   "source": [
    "m.span() #to get interval of matched value "
   ]
  },
  {
   "cell_type": "markdown",
   "metadata": {},
   "source": [
    "### re.finditer()\n",
    "finds all strings that match regular expressions and returns them as an iterator."
   ]
  },
  {
   "cell_type": "code",
   "execution_count": 36,
   "metadata": {},
   "outputs": [
    {
     "name": "stdout",
     "output_type": "stream",
     "text": [
      "1\n",
      "2\n",
      "3\n",
      "2\n",
      "4\n",
      "3\n",
      "3\n"
     ]
    }
   ],
   "source": [
    "# re.finditer(pattern, string, flags=0)\n",
    "#return a list of all matches or retur empty list if nonmatch \n",
    "import re\n",
    "it = re.finditer(r\"\\d\",\"12a32bc43jf3\")\n",
    "for match in it:\n",
    "    print(match.group())"
   ]
  },
  {
   "cell_type": "markdown",
   "metadata": {},
   "source": [
    "### re.split()\n",
    "The split method splits matched strings and returns a list. "
   ]
  },
  {
   "cell_type": "code",
   "execution_count": 8,
   "metadata": {},
   "outputs": [
    {
     "data": {
      "text/plain": [
       "['runoob,', 'runoob, runoob.']"
      ]
     },
     "execution_count": 8,
     "metadata": {},
     "output_type": "execute_result"
    }
   ],
   "source": [
    "import re\n",
    "re.split('\\s','runoob, runoob, runoob.',1)"
   ]
  },
  {
   "cell_type": "code",
   "execution_count": 38,
   "metadata": {},
   "outputs": [
    {
     "data": {
      "text/plain": [
       "['', ' ', 'runoob', ', ', 'runoob', ', ', 'runoob', '.', '']"
      ]
     },
     "execution_count": 38,
     "metadata": {},
     "output_type": "execute_result"
    }
   ],
   "source": [
    "re.split('(\\W+)', ' runoob, runoob, runoob.')"
   ]
  },
  {
   "cell_type": "code",
   "execution_count": 39,
   "metadata": {},
   "outputs": [
    {
     "data": {
      "text/plain": [
       "['', 'runoob, runoob, runoob.']"
      ]
     },
     "execution_count": 39,
     "metadata": {},
     "output_type": "execute_result"
    }
   ],
   "source": [
    "# You can control the number of occurrences by specifying the `maxsplit` parameter\n",
    "re.split('\\W+', ' runoob, runoob, runoob.', 1)"
   ]
  },
  {
   "cell_type": "code",
   "execution_count": 40,
   "metadata": {},
   "outputs": [
    {
     "data": {
      "text/plain": [
       "['hello world']"
      ]
     },
     "execution_count": 40,
     "metadata": {},
     "output_type": "execute_result"
    }
   ],
   "source": [
    "re.split('a+', 'hello world')   # Split will not split unmatched strings"
   ]
  },
  {
   "cell_type": "markdown",
   "metadata": {},
   "source": [
    "## File Manipulation"
   ]
  },
  {
   "cell_type": "code",
   "execution_count": null,
   "metadata": {},
   "outputs": [],
   "source": [
    "                                            #open file modes\n",
    "    \n",
    "# \"a\": append ==> open file for appending values, create file if not exist \n",
    "# \"r\": read ==> open file for read and give error if file not exist \n",
    "# \"w\": write ==> open file for write ,create file if not exist\n",
    "# \"x\":create ==>create file ,give error if file exist \n",
    "\n",
    "#to open file use open(absloute path ,mode)"
   ]
  },
  {
   "cell_type": "code",
   "execution_count": 24,
   "metadata": {},
   "outputs": [],
   "source": [
    "###TO Read from file "
   ]
  },
  {
   "cell_type": "code",
   "execution_count": null,
   "metadata": {},
   "outputs": [],
   "source": [
    "# to read all data \n",
    "file=open(\"path.txt\",'r')\n",
    "\n",
    "# to print specific number of character \n",
    "# file.read(number of character do you want to read )\n",
    "print(file.read(5))\n",
    "\n",
    "# read only one line \n",
    "print(file.line())\n",
    "\n",
    "#store all lines in list \n",
    "listt=file.readlines()\n",
    "\n",
    "#to print all lines \n",
    "\n",
    "for line in file:\n",
    "    print(line)\n",
    "\n",
    "#close file after using \n",
    "file.close()\n",
    "    \n"
   ]
  },
  {
   "cell_type": "code",
   "execution_count": null,
   "metadata": {},
   "outputs": [],
   "source": [
    "# to write in file "
   ]
  },
  {
   "cell_type": "code",
   "execution_count": 9,
   "metadata": {},
   "outputs": [
    {
     "data": {
      "text/plain": [
       "6"
      ]
     },
     "execution_count": 9,
     "metadata": {},
     "output_type": "execute_result"
    }
   ],
   "source": [
    "file=open(\"path.txt\",\"w\")\n",
    "\n",
    "#write in file \n",
    "file.write(\"object\")\n",
    "\n"
   ]
  },
  {
   "cell_type": "markdown",
   "metadata": {},
   "source": [
    "## Hands-on"
   ]
  },
  {
   "cell_type": "code",
   "execution_count": null,
   "metadata": {},
   "outputs": [],
   "source": [
    "S= \"\"\"\n",
    "abcde12378\n",
    "www.myweb.com\n",
    "\n",
    "342-555-6666\n",
    "444.908.6849\n",
    "\"\"\"\n",
    "\n",
    "import re\n",
    "pattern_phone = re.compile(r'\\d\\d\\d.\\d\\d\\d.\\d\\d\\d\\d')\n",
    "matches = pattern_phone.finditer(S)\n",
    "for match in matches:\n",
    "    print(match)\n",
    "    \n",
    "website = re.search(r'www\\..*\\.com', S)\n",
    "print(website)"
   ]
  },
  {
   "cell_type": "code",
   "execution_count": 42,
   "metadata": {},
   "outputs": [
    {
     "name": "stdout",
     "output_type": "stream",
     "text": [
      "342-555-6666\n",
      "444.908.6849\n",
      "<re.Match object; span=(12, 25), match='www.myweb.com'>\n",
      "www.myweb.com\n"
     ]
    }
   ],
   "source": [
    "S= \"\"\"\n",
    "abcde12378\n",
    "www.myweb.com\n",
    "\n",
    "342-555-6666\n",
    "444.908.6849\n",
    "444b208b6849\n",
    "\"\"\"\n",
    "import re\n",
    "it = re.finditer(r\"\\d\\d\\d\\W\\d\\d\\d\\W\\d\\d\\d\\d\", S)\n",
    "\n",
    "for i in it:\n",
    "    print(i.group())\n",
    "    \n",
    "website = re.compile(r'www\\..*\\.com')\n",
    "print(website.search(S))\n",
    "print(website.search(S).group())"
   ]
  },
  {
   "cell_type": "code",
   "execution_count": 43,
   "metadata": {},
   "outputs": [
    {
     "name": "stdout",
     "output_type": "stream",
     "text": [
      "     March 1998\n",
      "Mo Tu We Th Fr Sa Su\n",
      "                   1\n",
      " 2  3  4  5  6  7  8\n",
      " 9 10 11 12 13 14 15\n",
      "16 17 18 19 20 21 22\n",
      "23 24 25 26 27 28 29\n",
      "30 31\n",
      "\n"
     ]
    }
   ],
   "source": [
    "import calendar\n",
    "cal = calendar.month(1998, 3)\n",
    "print(cal)"
   ]
  }
 ],
 "metadata": {
  "kernelspec": {
   "display_name": "Python 3",
   "language": "python",
   "name": "python3"
  },
  "language_info": {
   "codemirror_mode": {
    "name": "ipython",
    "version": 3
   },
   "file_extension": ".py",
   "mimetype": "text/x-python",
   "name": "python",
   "nbconvert_exporter": "python",
   "pygments_lexer": "ipython3",
   "version": "3.8.5"
  }
 },
 "nbformat": 4,
 "nbformat_minor": 4
}
