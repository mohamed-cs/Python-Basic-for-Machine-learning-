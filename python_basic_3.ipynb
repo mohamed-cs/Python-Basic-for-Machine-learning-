{
  "cells": [
    {
      "cell_type": "markdown",
      "metadata": {
        "id": "OdBDUXq14W7z"
      },
      "source": [
        "## Introduction to Python Programming"
      ]
    },
    {
      "cell_type": "markdown",
      "metadata": {
        "id": "RjLOgxDP4W7_"
      },
      "source": [
        "## Data and Time\n",
        "\n",
        "* **date class** -  to work with date\n",
        "* **time class** -  to work with time\n",
        "* **datetime class** -  combination of date and time classes"
      ]
    },
    {
      "cell_type": "code",
      "execution_count": null,
      "metadata": {
        "id": "fJtQq4OR4W8B",
        "outputId": "a10c0359-ec73-4b39-ce35-566ae3cbdb9f"
      },
      "outputs": [
        {
          "name": "stdout",
          "output_type": "stream",
          "text": [
            "2021-05-27 18:46:46.180931\n",
            "<class 'datetime.datetime'>\n"
          ]
        }
      ],
      "source": [
        "import datetime\n",
        "now = datetime.datetime.now() # Get the current local datetime\n",
        "print(now)\n",
        "print(type(now))"
      ]
    },
    {
      "cell_type": "code",
      "execution_count": null,
      "metadata": {
        "id": "Yi4btM9f4W8O",
        "outputId": "0776eb4c-45dc-49e8-f469-5b16cdfb3241"
      },
      "outputs": [
        {
          "name": "stdout",
          "output_type": "stream",
          "text": [
            "2021\n",
            "5\n",
            "27\n"
          ]
        }
      ],
      "source": [
        "#print the current year ,month,day\n",
        "\n",
        "print(datetime.datetime.now().year) #year\n",
        "print(datetime.datetime.now().month) #month\n",
        "print(datetime.datetime.now().day) #day"
      ]
    },
    {
      "cell_type": "code",
      "execution_count": null,
      "metadata": {
        "id": "c1-7WwxE4W8V",
        "outputId": "3fe29655-ada2-472b-bbd0-de9de3042adc"
      },
      "outputs": [
        {
          "name": "stdout",
          "output_type": "stream",
          "text": [
            "18\n",
            "50\n",
            "55\n"
          ]
        }
      ],
      "source": [
        "#print the current year ,month,day\n",
        "\n",
        "print(datetime.datetime.now().time().hour) #hours\n",
        "print(datetime.datetime.now().time().minute) #minutes\n",
        "print(datetime.datetime.now().time().second) #seconds"
      ]
    },
    {
      "cell_type": "code",
      "execution_count": null,
      "metadata": {
        "id": "eKIrLUQc4W8d",
        "outputId": "c9e7f38b-df1a-43b0-d60a-08c1754b8a31"
      },
      "outputs": [
        {
          "name": "stdout",
          "output_type": "stream",
          "text": [
            "Date: 2021-05-27\n",
            "Time: 18:44:42.130983\n"
          ]
        }
      ],
      "source": [
        "print(\"Date:\", now.date()); #print the current date\n",
        "\n",
        "print(\"Time:\", now.time())  #print the current time"
      ]
    },
    {
      "cell_type": "code",
      "execution_count": null,
      "metadata": {
        "id": "DbvM7nZd4W8g",
        "outputId": "de33807d-1892-4b35-fa82-ece294c13e98"
      },
      "outputs": [
        {
          "name": "stdout",
          "output_type": "stream",
          "text": [
            "1999-02-14 05:30:40\n",
            "1999-02-14\n"
          ]
        }
      ],
      "source": [
        "#to print specific date\n",
        "#print(datetime.datetime(year,month,day,hour,minute,seconds))\n",
        "\n",
        "print(datetime.datetime(1999,2,14,5,30,40))\n",
        "print(datetime.datetime(1999,2,14).date())"
      ]
    },
    {
      "cell_type": "markdown",
      "metadata": {
        "id": "SAG3BtQ_4W8h"
      },
      "source": [
        "### Format Date: strftime() method\n",
        "returns a string representing date and time for a datetime object. Allows us to show datetime object in a custom specific format.\n",
        "\n",
        "Different formats depending on your location:\n",
        "* **US** mm/dd/yyyy\n",
        "* **UK** dd/mm/yyyy"
      ]
    },
    {
      "cell_type": "code",
      "execution_count": null,
      "metadata": {
        "id": "xMg0BDHI4W8j",
        "outputId": "711b9b03-2506-4d02-b730-8f3be5fd67e0"
      },
      "outputs": [
        {
          "name": "stdout",
          "output_type": "stream",
          "text": [
            "2021-05-27 18:59:32.510299\n",
            "Thursday, May 27, 2021\n",
            "21 $ 05 $ 27  18 :: 59 :: 32\n"
          ]
        }
      ],
      "source": [
        "import datetime\n",
        "import time\n",
        "\n",
        "current_dt = datetime.datetime.now()\n",
        "print(current_dt)\n",
        "\n",
        "string_date = current_dt.strftime(\"%A, %B %d, %Y\")\n",
        "print(string_date)\n",
        "\n",
        "print(datetime.datetime.now().strftime(\"%y $ %m $ %d  %H :: %M :: %S\"))\n",
        "\n",
        "# %y  -for year\n",
        "# %m -for month\n",
        "# %d - for day\n",
        "# %H -for hours\n",
        "# %M -for minutes\n",
        "# %S - for seconds\n",
        "# %A - full weekday name\n",
        "# %B - full month name\n",
        "# %d - day of month in the datetime object\n",
        "# %Y - full year, %y - last 2 numbers"
      ]
    },
    {
      "cell_type": "markdown",
      "metadata": {
        "id": "J72eYETb4W8n"
      },
      "source": [
        "### Format Time\n",
        "* The `time()` function returns the number of seconds passed since epoch.\n",
        "* The `localtime()` function takes the number of seconds passed since epoch as an argument and returns `struct_time` in local time.\n",
        "* The `asctime()` function takes `struct_time` as an argument and returns a string representing it."
      ]
    },
    {
      "cell_type": "code",
      "execution_count": null,
      "metadata": {
        "id": "_p_4QSzZ4W8p",
        "outputId": "18e600be-532d-43d5-eb2a-207ed5b2c199"
      },
      "outputs": [
        {
          "name": "stdout",
          "output_type": "stream",
          "text": [
            "1622872478.6627753\n",
            "<class 'time.struct_time'> time.struct_time(tm_year=2021, tm_mon=6, tm_mday=5, tm_hour=7, tm_min=54, tm_sec=38, tm_wday=5, tm_yday=156, tm_isdst=0)\n",
            "2021-06-05 07:54:38\n",
            "Sat Jun 05 07:54:38 2021\n"
          ]
        }
      ],
      "source": [
        "import time\n",
        "\n",
        "print(time.time())\n",
        "\n",
        "t = time.localtime()\n",
        "print(type(t), t)\n",
        "\n",
        "# Format into 2016-03-29 11:45:39\n",
        "print(time.strftime(\"%Y-%m-%d %H:%M:%S\", t))\n",
        "\n",
        "# Format into Sat Mar 28 22:24:24 2016\n",
        "print(time.strftime(\"%a %b %d %H:%M:%S %Y\", t))\n",
        "\n",
        "# %y  -for year\n",
        "# %m -for month\n",
        "# %d - for day\n",
        "# %H -for hours\n",
        "# %M -for minutes\n",
        "# %S - for seconds\n",
        "# %A - full weekday name\n",
        "# %B - full month name\n",
        "# %d - day of month in the datetime object\n",
        "# %Y - full year, %y - last 2 numbers"
      ]
    },
    {
      "cell_type": "code",
      "execution_count": null,
      "metadata": {
        "id": "3zktQZbG4W8z",
        "outputId": "da8aabca-1e82-48a7-eb27-845ef6649db4"
      },
      "outputs": [
        {
          "name": "stdout",
          "output_type": "stream",
          "text": [
            "time.struct_time(tm_year=2021, tm_mon=6, tm_mday=5, tm_hour=8, tm_min=14, tm_sec=43, tm_wday=5, tm_yday=156, tm_isdst=0)\n",
            "Local time: Sat Jun  5 08:14:43 2021\n"
          ]
        }
      ],
      "source": [
        "import time\n",
        "print(time.localtime())\n",
        "localtime = time.asctime(time.localtime())\n",
        "print(\"Local time:\", localtime)"
      ]
    },
    {
      "cell_type": "markdown",
      "metadata": {
        "id": "CQw9th6t4W81"
      },
      "source": [
        "### Converting datetime to timestamp\n",
        "`January 1, 1970, 00:00:00` at UTC is epoch (the point where time begins)."
      ]
    },
    {
      "cell_type": "code",
      "execution_count": null,
      "metadata": {
        "id": "zA1n5IJD4W82",
        "outputId": "6d9eb916-0859-4f08-f6f8-34cb61475a83"
      },
      "outputs": [
        {
          "name": "stdout",
          "output_type": "stream",
          "text": [
            "DateTime = 1970-01-01 00:00:00\n"
          ]
        }
      ],
      "source": [
        "from datetime import datetime\n",
        "\n",
        "timestamp_date = datetime.utcfromtimestamp(0)\n",
        "print(\"DateTime =\", timestamp_date)"
      ]
    },
    {
      "cell_type": "code",
      "execution_count": null,
      "metadata": {
        "id": "v2WMPjUl4W83",
        "outputId": "b353ce9d-68d4-470f-82d4-e42747b50a2a"
      },
      "outputs": [
        {
          "name": "stdout",
          "output_type": "stream",
          "text": [
            "2015-04-19 12:20:00\n"
          ]
        },
        {
          "data": {
            "text/plain": [
              "1429438800.0"
            ]
          },
          "execution_count": 19,
          "metadata": {},
          "output_type": "execute_result"
        }
      ],
      "source": [
        "from datetime import datetime\n",
        "dt = datetime(2015, 4, 19, 12, 20)  #Create using specified datetime\n",
        "print(dt)\n",
        "dt.timestamp()     #Convert datetime into timestamp"
      ]
    },
    {
      "cell_type": "markdown",
      "metadata": {
        "id": "eRCQTmNQ4W84"
      },
      "source": [
        "### Converting timestamp to datetime"
      ]
    },
    {
      "cell_type": "code",
      "execution_count": null,
      "metadata": {
        "id": "xw1rQWQK4W84",
        "outputId": "e52ded80-db97-4271-e121-6d2abbf26a99"
      },
      "outputs": [
        {
          "name": "stdout",
          "output_type": "stream",
          "text": [
            "2015-04-19 06:20:00\n",
            "2015-04-19 04:20:00\n"
          ]
        }
      ],
      "source": [
        "# Timestamp and the concept of time zone\n",
        "from datetime import datetime\n",
        "t = 1429417200.0\n",
        "print(datetime.fromtimestamp(t)) # local time\n",
        "print(datetime.utcfromtimestamp(t)) # UTC time"
      ]
    },
    {
      "cell_type": "code",
      "execution_count": null,
      "metadata": {
        "id": "ckG_JFVQ4W87",
        "outputId": "4b8f707f-a721-4dd5-bebc-7bfeb68e8798"
      },
      "outputs": [
        {
          "name": "stdout",
          "output_type": "stream",
          "text": [
            "1622135174.2409303\n",
            "2021-05-27 19:06:14.240930\n"
          ]
        }
      ],
      "source": [
        "import time\n",
        "t = time.time()   #time in seconds\n",
        "print(t);\n",
        "\n",
        "print(datetime.fromtimestamp(t)) #converting timestamp to datetime"
      ]
    },
    {
      "cell_type": "markdown",
      "metadata": {
        "id": "D-C46vYO4W88"
      },
      "source": [
        "### Get Calendar of a Month\n",
        "The calendar module can process yearly calendars and monthly calendars using multiple methods, for example, printing a monthly calendar."
      ]
    },
    {
      "cell_type": "code",
      "execution_count": null,
      "metadata": {
        "id": "892T8a7O4W89",
        "outputId": "d86530a7-a2dd-410e-db23-02eb9a6319c0"
      },
      "outputs": [
        {
          "name": "stdout",
          "output_type": "stream",
          "text": [
            "Output Calendar of January 2016:\n",
            "   February 2025\n",
            "Mo Tu We Th Fr Sa Su\n",
            "                1  2\n",
            " 3  4  5  6  7  8  9\n",
            "10 11 12 13 14 15 16\n",
            "17 18 19 20 21 22 23\n",
            "24 25 26 27 28\n",
            "\n"
          ]
        }
      ],
      "source": [
        "import calendar\n",
        "cal = calendar.month(2025, 2)\n",
        "print(\"Output Calendar of January 2016:\")\n",
        "print(cal)"
      ]
    },
    {
      "cell_type": "markdown",
      "metadata": {
        "id": "DiXVRzT54W9S"
      },
      "source": [
        "## File Manipulation"
      ]
    },
    {
      "cell_type": "markdown",
      "source": [
        "### To open a file, use the open() function. It requires at least one argument: the file path. Optionally, you can specify the mode in which you want to open the file."
      ],
      "metadata": {
        "id": "Kf9P5Lf-6U1X"
      }
    },
    {
      "cell_type": "code",
      "execution_count": null,
      "metadata": {
        "id": "1lWXQo564W9S"
      },
      "outputs": [],
      "source": [
        "                                            #open file modes\n",
        "\n",
        "# \"a\": append ==> open file for appending values, create file if not exist\n",
        "# \"r\": read ==> open file for read and give error if file not exist\n",
        "# \"w\": write ==> open file for write ,create file if not exist\n",
        "# \"x\":create ==>create file ,give error if file exist\n",
        "\n",
        "#to open file use open(absloute path ,mode)"
      ]
    },
    {
      "cell_type": "code",
      "source": [
        "# Open a file in read mode\n",
        "file = open('example.txt', 'r')\n",
        "# Open a file in write mode\n",
        "file = open('example.txt', 'w')\n",
        "# Open a file in append mode\n",
        "file = open('example.txt', 'a')"
      ],
      "metadata": {
        "id": "8QgWqVwE6Z4G"
      },
      "execution_count": null,
      "outputs": []
    },
    {
      "cell_type": "markdown",
      "source": [
        "### Closing a File\n",
        "\n",
        "### Always close the file after completing operations to free up resources."
      ],
      "metadata": {
        "id": "mO0Led3g6gfX"
      }
    },
    {
      "cell_type": "code",
      "source": [
        "file.close()"
      ],
      "metadata": {
        "id": "Bmtx3LQs6c7g"
      },
      "execution_count": null,
      "outputs": []
    },
    {
      "cell_type": "markdown",
      "source": [
        "### Alternatively, use the with statement to handle files, which ensures the file is properly closed after its suite finishes."
      ],
      "metadata": {
        "id": "R6LUlo3M6o8v"
      }
    },
    {
      "cell_type": "code",
      "source": [
        "with open('example.txt', 'r') as file:\n",
        "    # Perform file operations\n",
        "    content = file.read()\n",
        "# File is automatically closed here"
      ],
      "metadata": {
        "id": "sDSuSJGa6l-m"
      },
      "execution_count": null,
      "outputs": []
    },
    {
      "cell_type": "markdown",
      "source": [
        "### Reading from a File\n"
      ],
      "metadata": {
        "id": "GnJW_gvl61ng"
      }
    },
    {
      "cell_type": "code",
      "source": [
        "#Reading the Entire File\n",
        "with open('example.txt', 'r') as file:\n",
        "    content = file.read()\n",
        "    print(content)"
      ],
      "metadata": {
        "id": "lxW31_E36u70"
      },
      "execution_count": null,
      "outputs": []
    },
    {
      "cell_type": "code",
      "source": [
        "#Reading Line by Line\n",
        "with open('example.txt', 'r') as file:\n",
        "    for line in file:\n",
        "        print(line.strip())  # strip() removes the trailing newline character"
      ],
      "metadata": {
        "id": "Law_8yRO7DH2"
      },
      "execution_count": null,
      "outputs": []
    },
    {
      "cell_type": "code",
      "source": [
        "#Reading a File into a List\n",
        "with open('example.txt', 'r') as file:\n",
        "    lines = file.readlines()\n",
        "    print(lines)\n"
      ],
      "metadata": {
        "id": "zTCl58fP7KNk"
      },
      "execution_count": null,
      "outputs": []
    },
    {
      "cell_type": "markdown",
      "source": [
        "### Writing to a File"
      ],
      "metadata": {
        "id": "l2tjOnBG7Tdx"
      }
    },
    {
      "cell_type": "code",
      "source": [
        "#Writing a String to a File\n",
        "with open('example.txt', 'w') as file:\n",
        "    file.write('Hello, World!')"
      ],
      "metadata": {
        "id": "t_TxkSO57PVF"
      },
      "execution_count": null,
      "outputs": []
    },
    {
      "cell_type": "code",
      "source": [
        "#Writing Multiple Lines to a File\n",
        "lines = ['First line\\n', 'Second line\\n', 'Third line\\n']\n",
        "with open('example.txt', 'w') as file:\n",
        "    file.writelines(lines)"
      ],
      "metadata": {
        "id": "B2kqyFpJ7ZT6"
      },
      "execution_count": null,
      "outputs": []
    },
    {
      "cell_type": "code",
      "source": [
        "#Appending to a File\n",
        "with open('example.txt', 'a') as file:\n",
        "    file.write('This is an appended line.\\n')"
      ],
      "metadata": {
        "id": "RA29Q4Fi7foo"
      },
      "execution_count": null,
      "outputs": []
    },
    {
      "cell_type": "markdown",
      "source": [
        "### To store a list of dictionaries into a text file and read it back into a list of dictionaries in Python"
      ],
      "metadata": {
        "id": "M7P9Kb9I8oDa"
      }
    },
    {
      "cell_type": "code",
      "source": [
        "import json\n",
        "\n",
        "# Example list of dictionaries\n",
        "data = [\n",
        "    {'id': 1, 'name': 'mohamed', 'salary': 255666},\n",
        "    {'id': 2, 'name': 'ahmed', 'salary': 300000},\n",
        "    {'id': 3, 'name': 'sara', 'salary': 200000}\n",
        "]\n",
        "\n",
        "# Writing the list of dictionaries to a text file\n",
        "with open('data.txt', 'w') as file:\n",
        "    json.dump(data, file)\n",
        "\n",
        "# Reading the list of dictionaries from the text file\n",
        "with open('data.txt', 'r') as file:\n",
        "    loaded_data = json.load(file)\n",
        "\n",
        "# Display the loaded data\n",
        "print(loaded_data)\n"
      ],
      "metadata": {
        "id": "ugr4nszg8e4i"
      },
      "execution_count": null,
      "outputs": []
    },
    {
      "cell_type": "code",
      "source": [
        "import csv\n",
        "\n",
        "# Example list of dictionaries\n",
        "data = [\n",
        "    {'id': 1, 'name': 'mohamed', 'salary': 255666},\n",
        "    {'id': 2, 'name': 'ahmed', 'salary': 300000},\n",
        "    {'id': 3, 'name': 'sara', 'salary': 200000}\n",
        "]\n",
        "\n",
        "# Writing the list of dictionaries to a CSV file\n",
        "with open('data.csv', 'w', newline='') as file:\n",
        "    # Define the fieldnames based on the keys of the dictionary\n",
        "    fieldnames = ['id', 'name', 'salary']\n",
        "    writer = csv.DictWriter(file, fieldnames=fieldnames)\n",
        "\n",
        "    # Write the header\n",
        "    writer.writeheader()\n",
        "\n",
        "    # Write the data\n",
        "    writer.writerows(data)\n",
        "\n",
        "# Reading the list of dictionaries from the CSV file\n",
        "with open('data.csv', 'r') as file:\n",
        "    reader = csv.DictReader(file)\n",
        "    loaded_data = [row for row in reader]\n",
        "\n",
        "# Convert id and salary from strings to integers\n",
        "for row in loaded_data:\n",
        "    row['id'] = int(row['id'])\n",
        "    row['salary'] = int(row['salary'])\n",
        "\n",
        "# Display the loaded data\n",
        "print(loaded_data)\n"
      ],
      "metadata": {
        "id": "TT85WL4C9REn"
      },
      "execution_count": null,
      "outputs": []
    }
  ],
  "metadata": {
    "kernelspec": {
      "display_name": "Python 3",
      "language": "python",
      "name": "python3"
    },
    "language_info": {
      "codemirror_mode": {
        "name": "ipython",
        "version": 3
      },
      "file_extension": ".py",
      "mimetype": "text/x-python",
      "name": "python",
      "nbconvert_exporter": "python",
      "pygments_lexer": "ipython3",
      "version": "3.8.5"
    },
    "colab": {
      "provenance": []
    }
  },
  "nbformat": 4,
  "nbformat_minor": 0
}