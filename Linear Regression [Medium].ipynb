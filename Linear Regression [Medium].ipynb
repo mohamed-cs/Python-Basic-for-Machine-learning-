{
 "cells": [
  {
   "cell_type": "markdown",
   "metadata": {
    "id": "9vSs0vuoV3vX"
   },
   "source": [
    "This notebook is prepared by ApplAi's Technical And Training Depratment, Please \n",
    "Don't use it outside the training without asking for permission as it's considered as Violation of Intellectual property rights\n",
    "\n",
    "![ApplAi's Logo](https://media-exp1.licdn.com/dms/image/C4E0BAQHGLGltI2rzuQ/company-logo_200_200/0?e=2159024400&v=beta&t=adq8rNV09dPC6egdJMnfARt6Aq0TC9bSomFvFtm50WM)"
   ]
  },
  {
   "cell_type": "markdown",
   "metadata": {
    "id": "S7i3buRmEQtX"
   },
   "source": [
    "# Linear Regression:\n",
    "\n",
    "\n",
    "---\n",
    "\n",
    "\n",
    "\n",
    "---\n",
    "\n",
    "\n",
    "\n",
    "## Introduction\n",
    "\n",
    "In this exercise, you will implement Linear Regression algorithm to predict the price of houses using the size and apply it to Dataset with One feature represents the size in $m^2$. \n",
    "we strongly recommend Asking your colleagues and your Coach Using Questions And Discussions Channel on Microsoft Teams."
   ]
  },
  {
   "cell_type": "markdown",
   "metadata": {
    "id": "psSP86Z_EQtZ"
   },
   "source": [
    "#### Run the next cell to import the needed libraries and to load the dataset and Plot Dataset\n"
   ]
  },
  {
   "cell_type": "code",
   "execution_count": 1,
   "metadata": {
    "colab": {
     "base_uri": "https://localhost:8080/",
     "height": 404
    },
    "id": "sjjGtihRkSrr",
    "outputId": "e6c47779-57a0-4113-a1c3-a70cc955e8cf"
   },
   "outputs": [
    {
     "name": "stdout",
     "output_type": "stream",
     "text": [
      "   Housesize  Houseprice\n",
      "0   101.1101   1017.5920\n",
      "1   100.5277   1009.1302\n",
      "2   103.5186   1013.6620\n",
      "3   102.0032   1011.8540\n",
      "4   100.8598   1006.8233\n"
     ]
    },
    {
     "data": {
      "image/png": "[encoded data removed]",
      "text/plain": [
       "<Figure size 432x432 with 1 Axes>"
      ]
     },
     "metadata": {
      "needs_background": "light"
     },
     "output_type": "display_data"
    }
   ],
   "source": [
    "import numpy as np                          # Dealing with Numpy Arrays\n",
    "import matplotlib.pyplot as plt             # matplotlib is used for ploting graphs\n",
    "from IPython.display import HTML\n",
    "import pandas as pd\n",
    "\n",
    "# Lets the plots appears in the notebook\n",
    "%matplotlib inline\n",
    "\n",
    "Data = pd.read_csv(r'House_Price.csv')\n",
    "iterations = 100\n",
    "\n",
    "# Split the Data To X and Y where X is the input Feature (Size) and Y is the Output (Price)\n",
    "\n",
    "print(Data.head()) #print first five rows \n",
    "cols=Data.shape[1] #the number of columns\n",
    "\n",
    "X = np.array(Data.iloc[1:,0:cols-1]) #assign first column of dataset to x   \"House size \" then convert from dataframe to matrix\n",
    "Y = np.array(Data.iloc[1:,cols-1:cols]) #assign second column of dataset to y  \"House price\"\n",
    "\n",
    "X = X.reshape(X.shape[0],-1)\n",
    "Y = Y.reshape(Y.shape[0],-1)\n",
    "\n",
    "plt.figure(figsize=(6, 6))\n",
    "plt.plot(X, Y, 'ro', ms=8, mec='k')\n",
    "plt.title(\"Data\")\n",
    "plt.xlabel('House Size')\n",
    "plt.ylabel('Price in (K) L.E')\n",
    "plt.grid(True)"
   ]
  },
  {
   "cell_type": "markdown",
   "metadata": {
    "id": "DS8cndAFTZ4c"
   },
   "source": [
    "The Following Code illustrates the Shape of Data by printing the first 10 Examples, The First Column represents the input feature which is the size of the house, and the second column represents the output which is the Price of the house"
   ]
  },
  {
   "cell_type": "code",
   "execution_count": 2,
   "metadata": {
    "colab": {
     "base_uri": "https://localhost:8080/"
    },
    "id": "BbqYO2rjr_An",
    "outputId": "a8fae4ae-4197-451d-c60c-50781ec676e2"
   },
   "outputs": [
    {
     "name": "stdout",
     "output_type": "stream",
     "text": [
      "Data : \n",
      "    Housesize  Houseprice\n",
      "1    100.5277  1009.13020\n",
      "2    103.5186  1013.66200\n",
      "3    102.0032  1011.85400\n",
      "4    100.8598  1006.82330\n",
      "5    103.3829  1011.88600\n",
      "..        ...         ...\n",
      "92   100.8707  1007.20290\n",
      "93   100.3054  1001.98690\n",
      "94   103.2934  1000.14454\n",
      "95   108.3940  1009.05510\n",
      "96   100.4369  1000.61705\n",
      "\n",
      "[96 rows x 2 columns]\n",
      "\n",
      " X : \n",
      "[[100.5277]\n",
      " [103.5186]\n",
      " [102.0032]\n",
      " [100.8598]]\n",
      "\n",
      " Y : \n",
      "[[1009.1302]\n",
      " [1013.662 ]\n",
      " [1011.854 ]\n",
      " [1006.8233]]\n"
     ]
    }
   ],
   "source": [
    "# make sure that all data are correct \n",
    "\n",
    "print('Data : ')\n",
    "print(Data.iloc[1:,:])\n",
    "\n",
    "print('\\n X : ')\n",
    "print(X[:4])\n",
    "\n",
    "print('\\n Y : ')\n",
    "print(Y[:4])"
   ]
  },
  {
   "cell_type": "markdown",
   "metadata": {
    "id": "yWfk2sx9Ug2T"
   },
   "source": [
    "## 1 - Predictive Line\n",
    "Let's try to implement a hypothesis function which creates a line that we will use to predict any house price using it's size an input.\n",
    "We can calculate the Predictions using the follwing formula by iterating over the training examples \n",
    "\n",
    "$$Prediction = \\theta_0 + \\theta_1 x$$\n",
    "\n",
    "Which is equivalent to the Vectorized implementation \n",
    "\n",
    "$$Prediction = X. \\theta \\qquad \\text{or}\\qquad Prediction = \\theta^T.X \\qquad \\text{According to Shapes of Matrices}$$\n"
   ]
  },
  {
   "cell_type": "code",
   "execution_count": 3,
   "metadata": {
    "id": "VDqv1YStQ0wT"
   },
   "outputs": [],
   "source": [
    "def Predictive_Line(X, Theta):\n",
    "\n",
    "#     Theta should be with shape (2,1)\n",
    "    \n",
    "    Predictions = None\n",
    "    \n",
    "#     theta.shape  =>(2,1)  theta0 ,theta1     \n",
    "#      X.shape   => (96,1) before adding ones \n",
    "\n",
    "    X = np.append(np.ones((1,X.shape[0])), X.reshape((1,X.shape[0])), axis = 0)\n",
    "    \n",
    "#     X.shape   => (2, 96)  after adding ones\n",
    "\n",
    "  # ==================== YOUR CODE HERE =================================\n",
    "\n",
    "    Predictions = np.dot(Theta.T, X) \n",
    "#     predictions.shape  => (1,2)*(2,96) ==>(1,96)\n",
    "     \n",
    "  # =====================================================================\n",
    "  \n",
    "    Predictions = Predictions.T\n",
    "#    predictions.shape  => (96,1)     \n",
    "    \n",
    "    return Predictions"
   ]
  },
  {
   "cell_type": "code",
   "execution_count": 4,
   "metadata": {
    "colab": {
     "base_uri": "https://localhost:8080/"
    },
    "id": "We1PgJmpBYs5",
    "outputId": "e9269266-e152-4a3d-dbe0-e2c23ed0b370"
   },
   "outputs": [
    {
     "name": "stdout",
     "output_type": "stream",
     "text": [
      "[[995.21108]\n",
      " [996.40744]\n",
      " [995.80128]\n",
      " [995.34392]\n",
      " [996.35316]]\n"
     ]
    }
   ],
   "source": [
    "# theta1 and theta2  are random variable \n",
    "theta1=955\n",
    "theta2=0.4\n",
    "\n",
    "P = Predictive_Line(X,Theta = np.array([theta1,theta2]).reshape((2,1)))\n",
    "print(P[:5])\n"
   ]
  },
  {
   "cell_type": "markdown",
   "metadata": {
    "id": "odw7ls51CBXx"
   },
   "source": [
    "**Expected Output**:\n",
    "\n",
    "<table style=>\n",
    "    <tr>\n",
    "        <td>  [995.44404]  </td>\n",
    "    </tr>\n",
    "    <tr>\n",
    "        <td>  [995.21108]  </td>\n",
    "    </tr>\n",
    "    <tr>\n",
    "        <td>  [996.40744]  </td>\n",
    "    </tr>\n",
    "    <tr>\n",
    "        <td>  [995.80128]  </td>\n",
    "    </tr>\n",
    "    <tr>\n",
    "        <td>  [995.34392]  </td>\n",
    "    </tr>\n",
    "</table>"
   ]
  },
  {
   "cell_type": "markdown",
   "metadata": {
    "id": "06pz_r3nC2WB"
   },
   "source": [
    "In the Following Graph we used $\\: \\: \\: \\: Theta0 = 900, Theta1 = 1.1 \\: \\: \\:$ which you can think of it as a random values that we will Change for better values that creates better Predictive line using Optimization Algorithm (Gradient Descent)"
   ]
  },
  {
   "cell_type": "code",
   "execution_count": 5,
   "metadata": {
    "colab": {
     "base_uri": "https://localhost:8080/",
     "height": 404
    },
    "id": "HB2gzoSL-BYs",
    "outputId": "c818ff93-650c-4f88-97d6-c76511df2c3a"
   },
   "outputs": [
    {
     "data": {
      "image/png": "[encoded data removed]",
      "text/plain": [
       "<Figure size 432x432 with 1 Axes>"
      ]
     },
     "metadata": {
      "needs_background": "light"
     },
     "output_type": "display_data"
    }
   ],
   "source": [
    "plt.figure(figsize=(6, 6))\n",
    "plt.plot(X, Y, 'ro', ms=8, mec='k')\n",
    "plt.title(\"Data\")\n",
    "plt.xlabel('House Size')\n",
    "plt.ylabel('Price in (K) L.E')\n",
    "plt.grid(False)\n",
    "plt.plot(X, P, '-')\n",
    "plt.legend(['Training data', 'Predictive Line']);"
   ]
  },
  {
   "cell_type": "markdown",
   "metadata": {
    "id": "BukD0OY8HGeq"
   },
   "source": [
    "You May understand the importance of theta values when trying the create a new Predictive Line using diffrent Values of Theta"
   ]
  },
  {
   "cell_type": "code",
   "execution_count": 6,
   "metadata": {
    "colab": {
     "base_uri": "https://localhost:8080/",
     "height": 404
    },
    "id": "uVfKEOK4Bc3O",
    "outputId": "f91ca5b3-578c-4c53-9a1d-399d463f3f2f"
   },
   "outputs": [
    {
     "data": {
      "image/png": "[encoded data removed]",
      "text/plain": [
       "<Figure size 432x432 with 1 Axes>"
      ]
     },
     "metadata": {
      "needs_background": "light"
     },
     "output_type": "display_data"
    }
   ],
   "source": [
    "P = Predictive_Line(X = X,Theta = np.array([905, 0.9]).reshape((2,1)))\n",
    "\n",
    "plt.figure(figsize=(6, 6))\n",
    "plt.plot(X, Y, 'ro', ms=8, mec='k')\n",
    "plt.title(\"Data\")\n",
    "plt.xlabel('House Size')\n",
    "plt.ylabel('Price in (K) L.E')\n",
    "plt.grid(False)\n",
    "plt.plot(X, P, '-')\n",
    "plt.legend(['Training data', 'Predictive Line']);"
   ]
  },
  {
   "cell_type": "markdown",
   "metadata": {
    "id": "YtZY3cu_Ibzt"
   },
   "source": [
    "## 2 - Cost Function\n",
    "We Can Use any of the Above Lines to Predict any house price by using it's size as an input but as you see the lines doesn't fit the data correctly so first we need to calculate the Total Error to know the value of the total error we have to try to decrease that error value.\n",
    "We are going to use Mean Square Error Method to calculate how good is our Linear Regression Model (Predictive Line)\n",
    "\n",
    "$$ J = \\frac{1}{2m} \\sum_{i=1}^m \\left( P(x^{(i)}) - y^{(i)}\\right)^2$$\n",
    "Where <br>\n",
    "$J \\:$ is the Cost Value <br>\n",
    "$m \\:$ is the number of training examples <br>\n",
    "$i \\:$ is the iterative variable which iterate over the training example <br>\n",
    "$P \\:$ is the predicted values of the points <br>\n",
    "$y \\:$ is the Real values of the points <br>\n",
    "\n"
   ]
  },
  {
   "cell_type": "code",
   "execution_count": 7,
   "metadata": {
    "id": "TxbRc6QcHeff"
   },
   "outputs": [],
   "source": [
    "def Calculate_Cost(X, Theta, Y):\n",
    "    m = Y.shape[0]\n",
    "    J = 0\n",
    "  # ==================== YOUR CODE HERE =================================\n",
    "    h = Predictive_Line(X, Theta)\n",
    "    J = ((1/(2 * m)) * np.sum(np.square(h - Y), axis = 0))\n",
    "  # ===================================================================== \n",
    "    return J"
   ]
  },
  {
   "cell_type": "code",
   "execution_count": 8,
   "metadata": {
    "colab": {
     "base_uri": "https://localhost:8080/"
    },
    "id": "iY-sXP8R8r0A",
    "outputId": "7775e86f-66c7-40a0-b392-98ff6f5b6ee4"
   },
   "outputs": [
    {
     "name": "stdout",
     "output_type": "stream",
     "text": [
      "First Line Cost = \n",
      "[52.9978684]\n",
      "\n",
      "Second Line Cost = \n",
      "[35.03366079]\n"
     ]
    }
   ],
   "source": [
    "print('First Line Cost = ')\n",
    "print(Calculate_Cost(X = X,Y = Y,Theta = np.array([955, 0.4]).reshape((2,1))))\n",
    "print('\\nSecond Line Cost = ')\n",
    "print(Calculate_Cost(X = X,Y = Y,Theta = np.array([905, 0.9]).reshape((2,1))))"
   ]
  },
  {
   "cell_type": "markdown",
   "metadata": {
    "id": "-9SVaw5HYpkV"
   },
   "source": [
    "**Expected Output**:\n",
    "\n",
    "<table style=>\n",
    "    <tr>\n",
    "        <td>  First Line Cost = 54.9800147658226  </td>\n",
    "    </tr>\n",
    "    <tr>\n",
    "        <td>  Second Line Cost = 37.07585893908035  </td>\n",
    "    </tr>\n",
    "</table>"
   ]
  },
  {
   "cell_type": "code",
   "execution_count": 9,
   "metadata": {
    "colab": {
     "base_uri": "https://localhost:8080/",
     "height": 390
    },
    "id": "_n64Q-dgje1c",
    "outputId": "95912be9-a1de-43cc-e5a1-a05c44bbe208"
   },
   "outputs": [
    {
     "data": {
      "image/png": "[encoded data removed]",
      "text/plain": [
       "<Figure size 432x432 with 1 Axes>"
      ]
     },
     "metadata": {
      "needs_background": "light"
     },
     "output_type": "display_data"
    }
   ],
   "source": [
    "Theta0_Grid = np.linspace(895,935,num = 40)\n",
    "Theta1_Grid = np.ones(len(Theta0_Grid)) * 0.9\n",
    "Theta0_Grid = Theta0_Grid.reshape((Theta0_Grid.shape[0],-1))\n",
    "Theta1_Grid = Theta1_Grid.reshape((Theta1_Grid.shape[0],-1))\n",
    "Theta = np.append(Theta0_Grid, Theta1_Grid, axis = 1)\n",
    "J_grid = Calculate_Cost(X= X, Theta = Theta.T , Y = Y)\n",
    "plt.figure(figsize=(6, 6))\n",
    "plt.plot(Theta0_Grid, J_grid, 'k')\n",
    "plt.title('Cost Function')\n",
    "plt.grid(False)\n"
   ]
  },
  {
   "cell_type": "markdown",
   "metadata": {
    "id": "I8-vqLxtX6vw"
   },
   "source": [
    "## 3 - Gradient Descent\n",
    "As we can observe from the graph and from the Cost Value, The Second Line Performs better than the first line, and the diffrence between them is the values of theta, so Let's try to get a better Line in a systematic way using gradient descent algorithm instead of just trying diffrent values of Thetas."
   ]
  },
  {
   "cell_type": "markdown",
   "metadata": {
    "id": "lGoQNeueYS-z"
   },
   "source": [
    "As we have seen the latest Concave shaped graph represents the Cost Function values while changing Theta0 but making Theta1 Constant to make it easier to understand.\n",
    "Let's observe the point **R** in the following gif"
   ]
  },
  {
   "cell_type": "code",
   "execution_count": 10,
   "metadata": {
    "colab": {
     "base_uri": "https://localhost:8080/",
     "height": 321
    },
    "id": "F85ClO2vgAJf",
    "outputId": "4dd72152-5f2e-43fa-c260-30efd13c1069"
   },
   "outputs": [
    {
     "data": {
      "text/html": [
       "<img src=https://media.giphy.com/media/f3vn9xqwDjGwqcW0YJ/giphy.gif width=\"400\" height=\"300\">"
      ],
      "text/plain": [
       "<IPython.core.display.HTML object>"
      ]
     },
     "execution_count": 10,
     "metadata": {},
     "output_type": "execute_result"
    }
   ],
   "source": [
    "HTML('<img src=https://media.giphy.com/media/f3vn9xqwDjGwqcW0YJ/giphy.gif width=\"400\" height=\"300\">')"
   ]
  },
  {
   "cell_type": "markdown",
   "metadata": {
    "id": "6Ta042u9ic6c"
   },
   "source": [
    "let's say that we have initialized Theta0 randomly at the first value of Theta that point **R** started with, it had a very high cost function which means when we use this value of theta to generate Predictive line it won't be good enough and will do un-accurate predictions.\n",
    "As we noticed when the value of Theta0 **increases** the Cost Function or the Error **Decreases** till we reach the minimum Point\n",
    "\n",
    "But what if the randomly initialized variable was at the right side of the minimum Point ?"
   ]
  },
  {
   "cell_type": "code",
   "execution_count": 11,
   "metadata": {
    "colab": {
     "base_uri": "https://localhost:8080/",
     "height": 321
    },
    "id": "C-A_FTmko4CM",
    "outputId": "22ed65b4-aad6-4ac3-dd7a-5e4d0dea112a"
   },
   "outputs": [
    {
     "data": {
      "text/html": [
       "<img src=https://media.giphy.com/media/L0f2cnZwRICHUuexD7/giphy.gif width=\"400\" height=\"300\">"
      ],
      "text/plain": [
       "<IPython.core.display.HTML object>"
      ]
     },
     "execution_count": 11,
     "metadata": {},
     "output_type": "execute_result"
    }
   ],
   "source": [
    "HTML('<img src=https://media.giphy.com/media/L0f2cnZwRICHUuexD7/giphy.gif width=\"400\" height=\"300\">')"
   ]
  },
  {
   "cell_type": "markdown",
   "metadata": {
    "id": "4108qWbHplB1"
   },
   "source": [
    "Just Unlike **R** when the value of Theta0 of point **S** Decreases the Cost Function or the Error **Decreases** till we reach the minimum Point.\n",
    "\n",
    "So in order to know if we should **increase** or **decrease** Theta in order to **Decrease** the cost value we will use the Derivative in which if the value of the derivative of the cost function in a certain point is \n",
    "- **Negative (-ve)** that means we have to **increase** the Theta in order to **Decrease** the Cost Value.\n",
    "- **Positive (-ve)** that means we have to **Decrease** the Theta in order to **Decrease** the Cost Value.\n",
    "\n",
    "Take a look at the following equation you may think that $\\alpha$ Variable is a variable that controls the step amount that means how much we will increase/decrease Theta\n",
    " \n",
    "$$θ_j := θ_j − α\\frac{∂}{∂θ_j}J(θ)$$\n",
    "\n",
    "Note : This part of the Equation ($\\frac{∂}{∂θ_j}J(θ)$) means the Partial derivative of the Cost function, it's given to you without having to do mathematical proof, but if you already know partial derivative rules you may give it a try \n",
    "\n",
    "After Calculating the Derivative of the Cost Function we will have our Update rule of Gradient Descent is \n",
    "$$ \\theta_j = \\theta_j - \\alpha \\frac{1}{m} \\sum_{i=1}^m \\left(P(x^{(i)}) - y^{(i)}\\right)x_j^{(i)} \\qquad \\text{simultaneously update } \\theta_j \\text{ for all } j$$\n",
    "Let's Try to implement the Gradient Descent to get the best Thetas values that fits the Best Line"
   ]
  },
  {
   "cell_type": "code",
   "execution_count": 12,
   "metadata": {
    "id": "SXPiG995-m45"
   },
   "outputs": [],
   "source": [
    "def Gradient_Descent(X, Y, Theta, alpha, num_iters):\n",
    "\n",
    "#     Y.shape  =>(96,1)\n",
    "    m = Y.shape[0]   #m=96\n",
    "    \n",
    "        # ==================== YOUR CODE HERE =================================\n",
    "#     X1 = np.append(np.ones(X.shape) , X, axis = 1)\n",
    "    \n",
    "    for i in range(num_iters):\n",
    "        h = Predictive_Line(X, Theta.reshape((2,1)))\n",
    "        Theta=Theta.reshape((2,1))\n",
    "        theta0=Theta[0,0]-(alpha/m)* np.sum((h - Y), axis = 0)\n",
    "        theta1=Theta[1,0]-(alpha/m)* np.sum(((h - Y)*X), axis = 0)\n",
    "        Theta=np.array([theta0,theta1]).reshape((1,2))\n",
    "        \n",
    "#         Theta = Theta - (alpha / m) * ((h - Y).T).dot(X1)\n",
    "        # =====================================================================\n",
    "        \n",
    "    return Theta"
   ]
  },
  {
   "cell_type": "code",
   "execution_count": 13,
   "metadata": {
    "colab": {
     "base_uri": "https://localhost:8080/"
    },
    "id": "4aastOcGu_LM",
    "outputId": "f71fbd8a-5142-417f-8fc3-cf03a12e83c5"
   },
   "outputs": [
    {
     "name": "stdout",
     "output_type": "stream",
     "text": [
      "Theta = [[899.97875106   1.02504415]]\n",
      "Cost = [3.72524252]\n"
     ]
    }
   ],
   "source": [
    "Theta = Gradient_Descent(X, Y, Theta = np.array([900,0.4]).reshape((1,2)), alpha = 0.0001,num_iters= 10000)\n",
    "\n",
    "P = Predictive_Line(X, Theta.T)\n",
    "\n",
    "Cost = Calculate_Cost(X, Theta.T, Y)\n",
    "print('Theta = ' + str(Theta))\n",
    "print( 'Cost = '+str(Cost))"
   ]
  },
  {
   "cell_type": "markdown",
   "metadata": {
    "id": "vNabUZ1ZNF5N"
   },
   "source": [
    "**Expected Output**:\n",
    "\n",
    "\n",
    "<table style=>\n",
    "    <tr>\n",
    "        <td>  Theta = : [[899.98210241   1.02637825]]  </td>\n",
    "    </tr>\n",
    "    <tr>\n",
    "        <td>  Cost = [4.6830858]  </td>\n",
    "    </tr>\n",
    "</table>"
   ]
  },
  {
   "cell_type": "code",
   "execution_count": 14,
   "metadata": {
    "colab": {
     "base_uri": "https://localhost:8080/",
     "height": 404
    },
    "id": "Tw4-6SJCNTdY",
    "outputId": "ef596841-b32f-4685-cbf2-b16b6c8ca3d0"
   },
   "outputs": [
    {
     "data": {
      "image/png": "[encoded data removed]",
      "text/plain": [
       "<Figure size 432x432 with 1 Axes>"
      ]
     },
     "metadata": {
      "needs_background": "light"
     },
     "output_type": "display_data"
    }
   ],
   "source": [
    "plt.figure(figsize=(6, 6))\n",
    "plt.plot(X, Y, 'ro', ms=8, mec='k')\n",
    "plt.title(\"Data\")\n",
    "plt.xlabel('House Size')\n",
    "plt.ylabel('Price in (K) L.E')\n",
    "plt.grid(False)\n",
    "plt.plot(X, P, '-')\n",
    "plt.legend(['Training data', 'Predictive Line']);"
   ]
  }
 ],
 "metadata": {
  "colab": {
   "collapsed_sections": [],
   "name": "Gradient Descent Implementation Solved.ipynb",
   "provenance": [],
   "toc_visible": true
  },
  "kernelspec": {
   "display_name": "Python 3",
   "language": "python",
   "name": "python3"
  },
  "language_info": {
   "codemirror_mode": {
    "name": "ipython",
    "version": 3
   },
   "file_extension": ".py",
   "mimetype": "text/x-python",
   "name": "python",
   "nbconvert_exporter": "python",
   "pygments_lexer": "ipython3",
   "version": "3.8.5"
  }
 },
 "nbformat": 4,
 "nbformat_minor": 1
}
