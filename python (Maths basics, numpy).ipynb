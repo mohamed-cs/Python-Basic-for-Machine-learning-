{
 "cells": [
  {
   "cell_type": "markdown",
   "metadata": {},
   "source": [
    "# Session(2):"
   ]
  },
  {
   "cell_type": "markdown",
   "metadata": {},
   "source": [
    "### math and scipy Libraries\n",
    "• The `math` library, a standard library of Python, provides some \n",
    "common mathematical functions;\\\n",
    "• the `numpy` library, a numerical calculation and expansion library of Python, is \n",
    "mainly used to handle issues such as linear algebra, random \n",
    "number generation, and Fourier Transform;\\\n",
    "• the `scipy` library is used to deal with issues such as statistics, optimization, \n",
    "interpolation, and bonus points."
   ]
  },
  {
   "cell_type": "markdown",
   "metadata": {},
   "source": [
    "### ceilImplementation\n",
    "• The value of ceil(x) is the minimum integer greater than or equal to x. If x is an integer, the returned value is \n",
    "x"
   ]
  },
  {
   "cell_type": "code",
   "execution_count": 1,
   "metadata": {},
   "outputs": [],
   "source": [
    "import math\n",
    "import numpy as np\n",
    "import scipy as sp"
   ]
  },
  {
   "cell_type": "code",
   "execution_count": 4,
   "metadata": {},
   "outputs": [
    {
     "name": "stdout",
     "output_type": "stream",
     "text": [
      "5\n",
      "5\n"
     ]
    }
   ],
   "source": [
    "#Example\n",
    "print(math.ceil(4.1))\n",
    "print(math.ceil(4.99))"
   ]
  },
  {
   "cell_type": "markdown",
   "metadata": {},
   "source": [
    "### Cos & Sin & Tan Implementation\n",
    "• The cos(x) parameter is the cosine of x, where x must be a radian (math.pi/4 is a radian, indicating an angle \n",
    "of 45 degrees)\\\n",
    "• The tan(x) parameter returns the tangent value of x (radian)"
   ]
  },
  {
   "cell_type": "code",
   "execution_count": 5,
   "metadata": {},
   "outputs": [
    {
     "name": "stdout",
     "output_type": "stream",
     "text": [
      "cos=  0.7071067811865476\n",
      "tan=  0.9999999999999999\n",
      "sin=  0.7071067811865476\n"
     ]
    }
   ],
   "source": [
    "pi = math.pi\n",
    "print(\"cos= \",math.cos(pi/4))\n",
    "print(\"tan= \",math.tan(pi/4))\n",
    "print(\"sin= \",math.sin(pi/4))"
   ]
  },
  {
   "cell_type": "markdown",
   "metadata": {},
   "source": [
    "### degrees Implementation\n",
    "• The degrees(x) parameter converts x from a radian to an angle."
   ]
  },
  {
   "cell_type": "code",
   "execution_count": 7,
   "metadata": {},
   "outputs": [
    {
     "name": "stdout",
     "output_type": "stream",
     "text": [
      "45.0\n",
      "180.0\n"
     ]
    }
   ],
   "source": [
    "pi = math.pi\n",
    "print(math.degrees(pi/4))\n",
    "print(math.degrees(pi))"
   ]
  },
  {
   "cell_type": "markdown",
   "metadata": {},
   "source": [
    "### exp, fabs, and Factorial Implementations \n",
    "• The exp(x) parameter returns math.e, that is, the x power of 2.71828.\\\n",
    "• The fabs(x) parameter returns the absolute value of x.\\\n",
    "• The factorial(x) parameter is the factorial of x."
   ]
  },
  {
   "cell_type": "code",
   "execution_count": 9,
   "metadata": {},
   "outputs": [
    {
     "name": "stdout",
     "output_type": "stream",
     "text": [
      "exp=  22026.465794806718\n",
      "abs=  0.03\n",
      "factorial=  6\n"
     ]
    }
   ],
   "source": [
    "print(\"exp= \",math.exp(10))\n",
    "print(\"abs= \",math.fabs(-.03))\n",
    "print(\"factorial= \",math.factorial(3))"
   ]
  },
  {
   "cell_type": "markdown",
   "metadata": {},
   "source": [
    "### fsum and fmod Implementations \n",
    "• The fsum(iterable) summarizes each element in the iterator.\\\n",
    "• The fmod(x, y) parameter obtains the remainder of x/y. The value is a floating-point number"
   ]
  },
  {
   "cell_type": "code",
   "execution_count": 10,
   "metadata": {},
   "outputs": [
    {
     "name": "stdout",
     "output_type": "stream",
     "text": [
      "sum=  10.0\n",
      "mod=  2.0\n"
     ]
    }
   ],
   "source": [
    "print(\"sum= \",math.fsum([1,2,3,4]))\n",
    "print(\"mod= \",math.fmod(20,3))"
   ]
  },
  {
   "cell_type": "markdown",
   "metadata": {},
   "source": [
    "### log and sqrt Implementations\n",
    "• The log([x, base]) parameter returns the natural logarithm of x. By default, e is the base number. If the base\n",
    "parameter is fixed, the logarithm of x is returned based on the given base. The calculation formula is \n",
    "log(x)/log(base).\\\n",
    "• The sqrt(x) parameter indicates the square root of x."
   ]
  },
  {
   "cell_type": "code",
   "execution_count": 11,
   "metadata": {},
   "outputs": [
    {
     "name": "stdout",
     "output_type": "stream",
     "text": [
      "log=  2.302585092994046\n",
      "sqrt=  5.0\n"
     ]
    }
   ],
   "source": [
    "print(\"log= \",math.log(10))\n",
    "print(\"sqrt= \",math.sqrt(25))"
   ]
  },
  {
   "cell_type": "markdown",
   "metadata": {},
   "source": [
    "### pi, pow, trunc Implementations\n",
    "• The pi parameter is a numeric constant, indicating the circular constant.\\\n",
    "• The pow(x, y) parameter returns the x to the yth power, that is, x**y.\\\n",
    "• The trunc(x:Real) parameter returns the integer part of x."
   ]
  },
  {
   "cell_type": "code",
   "execution_count": 14,
   "metadata": {},
   "outputs": [
    {
     "name": "stdout",
     "output_type": "stream",
     "text": [
      "pi=  3.141592653589793\n",
      "power=  32.0\n",
      "trunc=  6\n"
     ]
    }
   ],
   "source": [
    "print(\"pi= \",math.pi)\n",
    "print(\"power= \",math.pow(2,5))\n",
    "print(\"trunc= \",math.trunc(6.2547))"
   ]
  },
  {
   "cell_type": "markdown",
   "metadata": {},
   "source": [
    "# Linear Algebra\n",
    "• Linear algebra is a mathematical branch widely used in various engineering technical disciplines. \n",
    "Its concepts and conclusions can greatly simplify the derivation and expression of AI formulas. \n",
    "Linear algebra can simplify complex problems so that we can perform efficient mathematical \n",
    "operations.\\\n",
    "• In the context of deep learning, linear algebra is a mathematical tool that provides a technique that \n",
    "helps us to operate arrays at the same time. Data structures like vectors and matrices can store \n",
    "numbers and rules for operations such as addition, subtraction, multiplication, and division.\\\n",
    "• The numpy is a numerical processing module based on Python. It has powerful functions and \n",
    "advantages in processing matrix data. As linear algebra mainly processes matrices, this section is \n",
    "mainly based on the numpy. This section also uses the mathematical science library scipy to \n",
    "illustrate equation solution."
   ]
  },
  {
   "cell_type": "markdown",
   "metadata": {},
   "source": [
    "### Tensor Implementation (1) \n",
    "• Generate a two-dimensional tensor whose elements are 0 and two dimensions are 3 and 4."
   ]
  },
  {
   "cell_type": "code",
   "execution_count": 15,
   "metadata": {},
   "outputs": [
    {
     "data": {
      "text/plain": [
       "array([[0., 0., 0., 0.],\n",
       "       [0., 0., 0., 0.],\n",
       "       [0., 0., 0., 0.]])"
      ]
     },
     "execution_count": 15,
     "metadata": {},
     "output_type": "execute_result"
    }
   ],
   "source": [
    "np.zeros((3,4))"
   ]
  },
  {
   "cell_type": "markdown",
   "metadata": {},
   "source": [
    "### Tensor Implementation (2) \n",
    "• Generate a three-dimensional random tensor whose three dimensions are 2, 3, and 4 respectively."
   ]
  },
  {
   "cell_type": "code",
   "execution_count": 16,
   "metadata": {},
   "outputs": [
    {
     "data": {
      "text/plain": [
       "array([[[0.82476667, 0.01208496, 0.18037733, 0.60815062],\n",
       "        [0.891377  , 0.58915207, 0.08539225, 0.34468176],\n",
       "        [0.09805372, 0.60735775, 0.43508458, 0.90543294]],\n",
       "\n",
       "       [[0.55547414, 0.84220841, 0.99331381, 0.92010579],\n",
       "        [0.12300744, 0.56283495, 0.72388799, 0.75018065],\n",
       "        [0.30850388, 0.4714466 , 0.90190892, 0.34141902]]])"
      ]
     },
     "execution_count": 16,
     "metadata": {},
     "output_type": "execute_result"
    }
   ],
   "source": [
    "np.random.rand(2,3,4)"
   ]
  },
  {
   "cell_type": "markdown",
   "metadata": {},
   "source": [
    "### Identity Matrix Implementation\n",
    "• Identity matrix is a square array whose diagonal elements are all 1 and other elements are 0."
   ]
  },
  {
   "cell_type": "code",
   "execution_count": 17,
   "metadata": {},
   "outputs": [
    {
     "data": {
      "text/plain": [
       "array([[1., 0., 0., 0.],\n",
       "       [0., 1., 0., 0.],\n",
       "       [0., 0., 1., 0.],\n",
       "       [0., 0., 0., 1.]])"
      ]
     },
     "execution_count": 17,
     "metadata": {},
     "output_type": "execute_result"
    }
   ],
   "source": [
    "np.eye(4)"
   ]
  },
  {
   "cell_type": "code",
   "execution_count": 25,
   "metadata": {},
   "outputs": [
    {
     "name": "stdout",
     "output_type": "stream",
     "text": [
      "[ 0  1  2  3  4  5  6  7  8  9 10 11]\n",
      "(12,)\n",
      "---------------------------------------------\n",
      "[[ 0  1  2  3  4  5  6  7  8  9 10 11]]\n",
      "(1, 12)\n",
      "---------------------------------------------\n",
      "[[ 0  1  2  3]\n",
      " [ 4  5  6  7]\n",
      " [ 8  9 10 11]]\n",
      "(3, 4)\n"
     ]
    }
   ],
   "source": [
    "# reshape Operation (1):\n",
    "\n",
    "x = np.arange(12)\n",
    "print(x)\n",
    "print(x.shape)\n",
    "print(\"---------------------------------------------\")\n",
    "\n",
    "#reshape Operation (2):\n",
    "\n",
    "x = x.reshape(1,12)\n",
    "print(x)\n",
    "print(x.shape)\n",
    "print(\"---------------------------------------------\")\n",
    "x = x.reshape(3,4)\n",
    "print(x)\n",
    "print(x.shape)"
   ]
  },
  {
   "cell_type": "code",
   "execution_count": 27,
   "metadata": {},
   "outputs": [
    {
     "name": "stdout",
     "output_type": "stream",
     "text": [
      "[[0 1 2 3 4]]\n",
      "[[0]\n",
      " [1]\n",
      " [2]\n",
      " [3]\n",
      " [4]]\n"
     ]
    }
   ],
   "source": [
    "#Transposition Implementation (1):\n",
    "\n",
    "x = np.arange(5).reshape(1,-1)\n",
    "print(x)\n",
    "\n",
    "x = x.T\n",
    "print(x)"
   ]
  },
  {
   "cell_type": "code",
   "execution_count": 30,
   "metadata": {},
   "outputs": [
    {
     "name": "stdout",
     "output_type": "stream",
     "text": [
      "[[ 0  1  2  3]\n",
      " [ 4  5  6  7]\n",
      " [ 8  9 10 11]]\n",
      "*******************\n",
      "[[ 0  4  8]\n",
      " [ 1  5  9]\n",
      " [ 2  6 10]\n",
      " [ 3  7 11]]\n",
      "---------------------------------------------------------------\n",
      "[[[ 0  1  2  3]\n",
      "  [ 4  5  6  7]\n",
      "  [ 8  9 10 11]]\n",
      "\n",
      " [[12 13 14 15]\n",
      "  [16 17 18 19]\n",
      "  [20 21 22 23]]]\n",
      "*******************\n",
      "[[[ 0 12]\n",
      "  [ 4 16]\n",
      "  [ 8 20]]\n",
      "\n",
      " [[ 1 13]\n",
      "  [ 5 17]\n",
      "  [ 9 21]]\n",
      "\n",
      " [[ 2 14]\n",
      "  [ 6 18]\n",
      "  [10 22]]\n",
      "\n",
      " [[ 3 15]\n",
      "  [ 7 19]\n",
      "  [11 23]]]\n"
     ]
    }
   ],
   "source": [
    "#Transposition Implementation (2):\n",
    "\n",
    "x = np.arange(12).reshape(3,4)\n",
    "print(x)\n",
    "\n",
    "print(\"*******************\")\n",
    "\n",
    "x = x.T\n",
    "print(x)\n",
    "\n",
    "print(\"---------------------------------------------------------------\")\n",
    "\n",
    "y = np.arange(24).reshape(2,3,4)\n",
    "print(y)\n",
    "\n",
    "print(\"*******************\")\n",
    "\n",
    "y = y.T\n",
    "print(y)"
   ]
  },
  {
   "cell_type": "code",
   "execution_count": 33,
   "metadata": {},
   "outputs": [
    {
     "name": "stdout",
     "output_type": "stream",
     "text": [
      "[[[ 0 12]\n",
      "  [ 1 13]\n",
      "  [ 2 14]\n",
      "  [ 3 15]]\n",
      "\n",
      " [[ 4 16]\n",
      "  [ 5 17]\n",
      "  [ 6 18]\n",
      "  [ 7 19]]\n",
      "\n",
      " [[ 8 20]\n",
      "  [ 9 21]\n",
      "  [10 22]\n",
      "  [11 23]]]\n"
     ]
    }
   ],
   "source": [
    "#Transposition Implementation (3):\n",
    "\n",
    "print(y.transpose(1,0,2))\n",
    "\n",
    "# OR\n",
    "\n",
    "# y = np.arange(24).reshape(3,2,4)"
   ]
  },
  {
   "cell_type": "markdown",
   "metadata": {},
   "source": [
    "### Matrix Multiplication\n",
    "• To multiply the matrix A and matrix B, the column quantity of A must be equal to the row quantity of B"
   ]
  },
  {
   "cell_type": "code",
   "execution_count": 36,
   "metadata": {},
   "outputs": [
    {
     "name": "stdout",
     "output_type": "stream",
     "text": [
      "[[0 1]\n",
      " [2 3]\n",
      " [4 5]]\n",
      "-----------\n",
      "[[0 1 2]\n",
      " [3 4 5]]\n",
      "-----------\n",
      "[[ 3  4  5]\n",
      " [ 9 14 19]\n",
      " [15 24 33]]\n"
     ]
    }
   ],
   "source": [
    "A = np.arange(6).reshape(3,2)\n",
    "B = np.arange(6).reshape(2,3)\n",
    "print(A)\n",
    "print(\"-----------\")\n",
    "print(B)\n",
    "print(\"-----------\")\n",
    "print(np.matmul(A,B))"
   ]
  },
  {
   "cell_type": "markdown",
   "metadata": {},
   "source": [
    "### Matrix Corresponding Operation\n",
    "• Matrix corresponding operations are operations for tensors of the same shape and size. For example, `adding`, \n",
    "`subtracting`, `multiplying`, and `dividing` the elements with the same position in two tensors."
   ]
  },
  {
   "cell_type": "code",
   "execution_count": 39,
   "metadata": {},
   "outputs": [
    {
     "name": "stdout",
     "output_type": "stream",
     "text": [
      "sum = \n",
      " [[ 0  2]\n",
      " [ 4  6]\n",
      " [ 8 10]]\n",
      "multiplying = \n",
      " [[ 0  1]\n",
      " [ 4  9]\n",
      " [16 25]]\n"
     ]
    }
   ],
   "source": [
    "print(\"sum = \\n\",A+A)\n",
    "print(\"multiplying = \\n\",A*A)"
   ]
  },
  {
   "cell_type": "markdown",
   "metadata": {},
   "source": [
    "### Inverse Matrix Implementation\n",
    "• Inverse matrix implementation is applicable only to square matrices."
   ]
  },
  {
   "cell_type": "code",
   "execution_count": 41,
   "metadata": {},
   "outputs": [
    {
     "name": "stdout",
     "output_type": "stream",
     "text": [
      "[[-1.5  0.5]\n",
      " [ 1.   0. ]]\n"
     ]
    }
   ],
   "source": [
    "A=np.arange(4).reshape(2,2)\n",
    "print(np.linalg.inv(A))"
   ]
  },
  {
   "cell_type": "markdown",
   "metadata": {},
   "source": [
    "### Eigenvalue and Eigenvector\n",
    "• Obtain the eigenvalue and eigenvector of a matrix."
   ]
  },
  {
   "cell_type": "code",
   "execution_count": 52,
   "metadata": {},
   "outputs": [
    {
     "name": "stdout",
     "output_type": "stream",
     "text": [
      "x= \n",
      " [[1 0 0]\n",
      " [0 2 0]\n",
      " [0 0 3]]\n",
      "-----------\n",
      "a=  [1. 2. 3.]\n",
      "-----------\n",
      "b= \n",
      " [[1. 0. 0.]\n",
      " [0. 1. 0.]\n",
      " [0. 0. 1.]]\n"
     ]
    }
   ],
   "source": [
    "x = np.diag((1,2,3))\n",
    "print(\"x= \\n\",x)\n",
    "print(\"-----------\")\n",
    "a,b = np.linalg.eig(x)\n",
    "print(\"a= \",a)\n",
    "print(\"-----------\")\n",
    "print(\"b= \\n\",b)"
   ]
  },
  {
   "cell_type": "markdown",
   "metadata": {},
   "source": [
    "### Determinant\n",
    "• Obtain the determinant of a matrix. "
   ]
  },
  {
   "cell_type": "code",
   "execution_count": 54,
   "metadata": {},
   "outputs": [
    {
     "name": "stdout",
     "output_type": "stream",
     "text": [
      "-2.9582283945787796e-30\n"
     ]
    }
   ],
   "source": [
    "A=np.arange(16).reshape(4,4)\n",
    "print(np.linalg.det(A))"
   ]
  },
  {
   "cell_type": "markdown",
   "metadata": {},
   "source": [
    "### Linear Equation Solving\n",
    "• Solving a linear equation is simple because it requires only one function (scipy.linalg.solve).\\\n",
    "• An example is finding the solution of the following system of non-homogeneous linear equations."
   ]
  },
  {
   "cell_type": "code",
   "execution_count": 58,
   "metadata": {},
   "outputs": [],
   "source": [
    "from scipy.linalg import solve"
   ]
  },
  {
   "cell_type": "code",
   "execution_count": 61,
   "metadata": {},
   "outputs": [
    {
     "name": "stdout",
     "output_type": "stream",
     "text": [
      "[ 2.  -2.  -0.5]\n"
     ]
    }
   ],
   "source": [
    "\"\"\"\n",
    "(3)x1 + (1)x2 + (-2)x3 = (5)\n",
    "(1)x1 + (-1)x2 + (4)x3 = (2)\n",
    "(2)x1 + (0)x2 + (3)x3  = (2.5)\n",
    "\n",
    "\"\"\"\n",
    "a = np.array([[3,1,-2],[1,-1,4],[2,0,3]])\n",
    "b = np.array([5,2,2.5])\n",
    "x = solve(a,b)\n",
    "print(x)"
   ]
  }
 ],
 "metadata": {
  "kernelspec": {
   "display_name": "Python 3",
   "language": "python",
   "name": "python3"
  },
  "language_info": {
   "codemirror_mode": {
    "name": "ipython",
    "version": 3
   },
   "file_extension": ".py",
   "mimetype": "text/x-python",
   "name": "python",
   "nbconvert_exporter": "python",
   "pygments_lexer": "ipython3",
   "version": "3.8.5"
  }
 },
 "nbformat": 4,
 "nbformat_minor": 4
}
